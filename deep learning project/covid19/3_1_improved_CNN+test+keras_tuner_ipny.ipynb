{
  "nbformat": 4,
  "nbformat_minor": 0,
  "metadata": {
    "colab": {
      "name": " 3-1 improved CNN+test+keras tuner.ipny",
      "provenance": [],
      "collapsed_sections": [],
      "toc_visible": true,
      "machine_shape": "hm"
    },
    "kernelspec": {
      "name": "python3",
      "display_name": "Python 3"
    },
    "accelerator": "GPU"
  },
  "cells": [
    {
      "cell_type": "markdown",
      "metadata": {
        "id": "Xu-gKenzkKfG",
        "colab_type": "text"
      },
      "source": [
        "# Installing, Cloning & Importing"
      ]
    },
    {
      "cell_type": "code",
      "metadata": {
        "id": "q8Q6ePLgmLcE",
        "colab_type": "code",
        "colab": {
          "base_uri": "https://localhost:8080/",
          "height": 102
        },
        "outputId": "77db2f50-917b-4180-8b03-c8bb244bacec"
      },
      "source": [
        "!pip -q install tensorflow==2.1"
      ],
      "execution_count": null,
      "outputs": [
        {
          "output_type": "stream",
          "text": [
            "\u001b[K     |████████████████████████████████| 421.8MB 35kB/s \n",
            "\u001b[K     |████████████████████████████████| 3.9MB 60.2MB/s \n",
            "\u001b[K     |████████████████████████████████| 450kB 74.0MB/s \n",
            "\u001b[?25h  Building wheel for gast (setup.py) ... \u001b[?25l\u001b[?25hdone\n",
            "\u001b[31mERROR: tensorflow-probability 0.10.0rc0 has requirement gast>=0.3.2, but you'll have gast 0.2.2 which is incompatible.\u001b[0m\n"
          ],
          "name": "stdout"
        }
      ]
    },
    {
      "cell_type": "code",
      "metadata": {
        "id": "enEcbOK7__2T",
        "colab_type": "code",
        "colab": {
          "base_uri": "https://localhost:8080/",
          "height": 530
        },
        "outputId": "6fd5d3cd-b6c6-46bc-b56d-0a7f36cccca9"
      },
      "source": [
        " !pip -q install keras-tuner"
      ],
      "execution_count": null,
      "outputs": [
        {
          "output_type": "stream",
          "text": [
            "Collecting keras-tuner\n",
            "\u001b[?25l  Downloading https://files.pythonhosted.org/packages/a7/f7/4b41b6832abf4c9bef71a664dc563adb25afc5812831667c6db572b1a261/keras-tuner-1.0.1.tar.gz (54kB)\n",
            "\r\u001b[K     |██████                          | 10kB 26.7MB/s eta 0:00:01\r\u001b[K     |████████████                    | 20kB 3.0MB/s eta 0:00:01\r\u001b[K     |██████████████████              | 30kB 4.0MB/s eta 0:00:01\r\u001b[K     |████████████████████████        | 40kB 4.3MB/s eta 0:00:01\r\u001b[K     |██████████████████████████████  | 51kB 3.5MB/s eta 0:00:01\r\u001b[K     |████████████████████████████████| 61kB 2.9MB/s \n",
            "\u001b[?25hRequirement already satisfied: future in /usr/local/lib/python3.6/dist-packages (from keras-tuner) (0.16.0)\n",
            "Requirement already satisfied: numpy in /usr/local/lib/python3.6/dist-packages (from keras-tuner) (1.18.4)\n",
            "Requirement already satisfied: tabulate in /usr/local/lib/python3.6/dist-packages (from keras-tuner) (0.8.7)\n",
            "Collecting terminaltables\n",
            "  Downloading https://files.pythonhosted.org/packages/9b/c4/4a21174f32f8a7e1104798c445dacdc1d4df86f2f26722767034e4de4bff/terminaltables-3.1.0.tar.gz\n",
            "Collecting colorama\n",
            "  Downloading https://files.pythonhosted.org/packages/c9/dc/45cdef1b4d119eb96316b3117e6d5708a08029992b2fee2c143c7a0a5cc5/colorama-0.4.3-py2.py3-none-any.whl\n",
            "Requirement already satisfied: tqdm in /usr/local/lib/python3.6/dist-packages (from keras-tuner) (4.41.1)\n",
            "Requirement already satisfied: requests in /usr/local/lib/python3.6/dist-packages (from keras-tuner) (2.23.0)\n",
            "Requirement already satisfied: scipy in /usr/local/lib/python3.6/dist-packages (from keras-tuner) (1.4.1)\n",
            "Requirement already satisfied: scikit-learn in /usr/local/lib/python3.6/dist-packages (from keras-tuner) (0.22.2.post1)\n",
            "Requirement already satisfied: urllib3!=1.25.0,!=1.25.1,<1.26,>=1.21.1 in /usr/local/lib/python3.6/dist-packages (from requests->keras-tuner) (1.24.3)\n",
            "Requirement already satisfied: chardet<4,>=3.0.2 in /usr/local/lib/python3.6/dist-packages (from requests->keras-tuner) (3.0.4)\n",
            "Requirement already satisfied: certifi>=2017.4.17 in /usr/local/lib/python3.6/dist-packages (from requests->keras-tuner) (2020.4.5.1)\n",
            "Requirement already satisfied: idna<3,>=2.5 in /usr/local/lib/python3.6/dist-packages (from requests->keras-tuner) (2.9)\n",
            "Requirement already satisfied: joblib>=0.11 in /usr/local/lib/python3.6/dist-packages (from scikit-learn->keras-tuner) (0.14.1)\n",
            "Building wheels for collected packages: keras-tuner, terminaltables\n",
            "  Building wheel for keras-tuner (setup.py) ... \u001b[?25l\u001b[?25hdone\n",
            "  Created wheel for keras-tuner: filename=keras_tuner-1.0.1-cp36-none-any.whl size=73200 sha256=83f094097d77e6b748845888352095e7bcffccc519f388196ec80721fadbce72\n",
            "  Stored in directory: /root/.cache/pip/wheels/b9/cc/62/52716b70dd90f3db12519233c3a93a5360bc672da1a10ded43\n",
            "  Building wheel for terminaltables (setup.py) ... \u001b[?25l\u001b[?25hdone\n",
            "  Created wheel for terminaltables: filename=terminaltables-3.1.0-cp36-none-any.whl size=15356 sha256=b53c4cbfed204210343122d686890a0c072e2418fc8d007665395f8ba15dfa2e\n",
            "  Stored in directory: /root/.cache/pip/wheels/30/6b/50/6c75775b681fb36cdfac7f19799888ef9d8813aff9e379663e\n",
            "Successfully built keras-tuner terminaltables\n",
            "Installing collected packages: terminaltables, colorama, keras-tuner\n",
            "Successfully installed colorama-0.4.3 keras-tuner-1.0.1 terminaltables-3.1.0\n"
          ],
          "name": "stdout"
        }
      ]
    },
    {
      "cell_type": "code",
      "metadata": {
        "id": "UdXV2NS4ETuT",
        "colab_type": "code",
        "colab": {
          "base_uri": "https://localhost:8080/",
          "height": 136
        },
        "outputId": "db38412c-8e95-4945-c842-877f2af574e7"
      },
      "source": [
        "# Update dataset: !git pull\n",
        "!git clone https://github.com/casperbh96/COVID-19-Detection.git dataset"
      ],
      "execution_count": null,
      "outputs": [
        {
          "output_type": "stream",
          "text": [
            "Cloning into 'dataset'...\n",
            "remote: Enumerating objects: 9, done.\u001b[K\n",
            "remote: Counting objects: 100% (9/9), done.\u001b[K\n",
            "remote: Compressing objects: 100% (9/9), done.\u001b[K\n",
            "remote: Total 9745 (delta 4), reused 0 (delta 0), pack-reused 9736\u001b[K\n",
            "Receiving objects: 100% (9745/9745), 151.88 MiB | 47.79 MiB/s, done.\n",
            "Resolving deltas: 100% (74/74), done.\n"
          ],
          "name": "stdout"
        }
      ]
    },
    {
      "cell_type": "code",
      "metadata": {
        "id": "hAdyEGF5nbf-",
        "colab_type": "code",
        "colab": {
          "base_uri": "https://localhost:8080/",
          "height": 34
        },
        "outputId": "4001c85d-91be-4881-fdee-9b40367388e9"
      },
      "source": [
        "import pandas as pd\n",
        "import matplotlib.pyplot as plt\n",
        "%matplotlib inline\n",
        "import numpy as np\n",
        "import cv2, time\n",
        "import tensorflow as tf\n",
        "\n",
        "\n",
        "tf.__version__"
      ],
      "execution_count": null,
      "outputs": [
        {
          "output_type": "execute_result",
          "data": {
            "text/plain": [
              "'2.1.0'"
            ]
          },
          "metadata": {
            "tags": []
          },
          "execution_count": 4
        }
      ]
    },
    {
      "cell_type": "code",
      "metadata": {
        "id": "nLMeFw5tArVx",
        "colab_type": "code",
        "colab": {
          "base_uri": "https://localhost:8080/",
          "height": 34
        },
        "outputId": "6e958def-62b3-42c2-ddc8-cdc1b5e3e1e8"
      },
      "source": [
        "import kerastuner\n",
        "\n",
        "kerastuner.__version__"
      ],
      "execution_count": null,
      "outputs": [
        {
          "output_type": "execute_result",
          "data": {
            "text/plain": [
              "'1.0.1'"
            ]
          },
          "metadata": {
            "tags": []
          },
          "execution_count": 5
        }
      ]
    },
    {
      "cell_type": "markdown",
      "metadata": {
        "id": "wQPk_vZzkIr1",
        "colab_type": "text"
      },
      "source": [
        "# Loading The Datasets"
      ]
    },
    {
      "cell_type": "code",
      "metadata": {
        "id": "2xtrZL2CO-qN",
        "colab_type": "code",
        "colab": {
          "base_uri": "https://localhost:8080/",
          "height": 204
        },
        "outputId": "4dfdc5a3-f0d5-4064-f160-19a5a5e6e2de"
      },
      "source": [
        "covid_path = 'dataset/covid_dataset.csv'\n",
        "covid_image_path = 'dataset/covid_adjusted/'\n",
        "\n",
        "normal_path = 'dataset/normal_xray_dataset.csv'\n",
        "normal_image_path = 'dataset/normal_dataset/'\n",
        "\n",
        "covid_df = pd.read_csv(covid_path, usecols=['filename', 'finding'])\n",
        "normal_df = pd.read_csv(normal_path, usecols=['filename', 'finding'])\n",
        "\n",
        "normal_df = normal_df.head(99)\n",
        "\n",
        "covid_df.head()"
      ],
      "execution_count": null,
      "outputs": [
        {
          "output_type": "execute_result",
          "data": {
            "text/html": [
              "<div>\n",
              "<style scoped>\n",
              "    .dataframe tbody tr th:only-of-type {\n",
              "        vertical-align: middle;\n",
              "    }\n",
              "\n",
              "    .dataframe tbody tr th {\n",
              "        vertical-align: top;\n",
              "    }\n",
              "\n",
              "    .dataframe thead th {\n",
              "        text-align: right;\n",
              "    }\n",
              "</style>\n",
              "<table border=\"1\" class=\"dataframe\">\n",
              "  <thead>\n",
              "    <tr style=\"text-align: right;\">\n",
              "      <th></th>\n",
              "      <th>filename</th>\n",
              "      <th>finding</th>\n",
              "    </tr>\n",
              "  </thead>\n",
              "  <tbody>\n",
              "    <tr>\n",
              "      <th>0</th>\n",
              "      <td>auntminnie-a-2020_01_28_23_51_6665_2020_01_28_...</td>\n",
              "      <td>COVID-19</td>\n",
              "    </tr>\n",
              "    <tr>\n",
              "      <th>1</th>\n",
              "      <td>auntminnie-b-2020_01_28_23_51_6665_2020_01_28_...</td>\n",
              "      <td>COVID-19</td>\n",
              "    </tr>\n",
              "    <tr>\n",
              "      <th>2</th>\n",
              "      <td>auntminnie-c-2020_01_28_23_51_6665_2020_01_28_...</td>\n",
              "      <td>COVID-19</td>\n",
              "    </tr>\n",
              "    <tr>\n",
              "      <th>3</th>\n",
              "      <td>auntminnie-d-2020_01_28_23_51_6665_2020_01_28_...</td>\n",
              "      <td>COVID-19</td>\n",
              "    </tr>\n",
              "    <tr>\n",
              "      <th>4</th>\n",
              "      <td>nejmc2001573_f1a.jpeg.jpg</td>\n",
              "      <td>COVID-19</td>\n",
              "    </tr>\n",
              "  </tbody>\n",
              "</table>\n",
              "</div>"
            ],
            "text/plain": [
              "                                            filename   finding\n",
              "0  auntminnie-a-2020_01_28_23_51_6665_2020_01_28_...  COVID-19\n",
              "1  auntminnie-b-2020_01_28_23_51_6665_2020_01_28_...  COVID-19\n",
              "2  auntminnie-c-2020_01_28_23_51_6665_2020_01_28_...  COVID-19\n",
              "3  auntminnie-d-2020_01_28_23_51_6665_2020_01_28_...  COVID-19\n",
              "4                          nejmc2001573_f1a.jpeg.jpg  COVID-19"
            ]
          },
          "metadata": {
            "tags": []
          },
          "execution_count": 6
        }
      ]
    },
    {
      "cell_type": "code",
      "metadata": {
        "id": "r0ZJ3GaUlnLN",
        "colab_type": "code",
        "colab": {}
      },
      "source": [
        "covid_images = []\n",
        "covid_labels = []\n",
        "\n",
        "for index, row in covid_df.iterrows():\n",
        "    filename = row['filename']\n",
        "    label = row['finding']\n",
        "    path = covid_image_path + filename\n",
        "\n",
        "    image = cv2.imread(path)\n",
        "    image = cv2.cvtColor(image, cv2.COLOR_BGR2RGB)\n",
        "    \n",
        "    covid_images.append(image)\n",
        "    covid_labels.append(label)\n",
        "\n",
        "normal_images = []\n",
        "normal_labels = []\n",
        "\n",
        "for index, row in normal_df.iterrows():\n",
        "    filename = row['filename']\n",
        "    label = row['finding']\n",
        "    path = normal_image_path + filename\n",
        "\n",
        "    # temporary fix while we preprocess ALL the images\n",
        "    if filename == '4c268764-b5e5-4417-85a3-da52916984d8.jpg':\n",
        "        break\n",
        "\n",
        "    image = cv2.imread(path)\n",
        "    image = cv2.cvtColor(image, cv2.COLOR_BGR2RGB)\n",
        "    \n",
        "    normal_images.append(image)\n",
        "    normal_labels.append(label)\n",
        "\n",
        "# normalize to interval of [0,1]\n",
        "covid_images = np.array(covid_images) / 255\n",
        "\n",
        "# normalize to interval of [0,1]\n",
        "normal_images = np.array(normal_images) / 255"
      ],
      "execution_count": null,
      "outputs": []
    },
    {
      "cell_type": "markdown",
      "metadata": {
        "id": "V4pCGvdKZXe0",
        "colab_type": "text"
      },
      "source": [
        "# Splitting Datasets Into Training and Testing"
      ]
    },
    {
      "cell_type": "code",
      "metadata": {
        "id": "ncFamjBeZXCb",
        "colab_type": "code",
        "colab": {
          "base_uri": "https://localhost:8080/",
          "height": 34
        },
        "outputId": "4d443401-f358-4161-a1cd-9c6ec0720d38"
      },
      "source": [
        "from sklearn.model_selection import train_test_split\n",
        "from sklearn.preprocessing import LabelBinarizer\n",
        "from tensorflow.keras.utils import to_categorical\n",
        "from keras.callbacks import EarlyStopping\n",
        "\n",
        "# split into training(0.7) and testing(0.15) and validation(0.15)\n",
        "covid_x_train, covid_x_val, covid_y_train, covid_y_val= train_test_split(\n",
        "    covid_images, covid_labels, test_size=0.3)\n",
        "covid_x_test, covid_x_val, covid_y_test, covid_y_val= train_test_split(\n",
        "    covid_x_val, covid_y_val, test_size=0.5)\n",
        "\n",
        "normal_x_train, normal_x_val, normal_y_train, normal_y_val = train_test_split(\n",
        "    normal_images, normal_labels, test_size=0.3)\n",
        "normal_x_test, normal_x_val, normal_y_test, normal_y_val = train_test_split(\n",
        "    normal_x_val, normal_y_val, test_size=0.5)\n",
        "\n",
        "\n",
        "\n",
        "X_train = np.concatenate((normal_x_train, covid_x_train), axis=0)\n",
        "X_val = np.concatenate((normal_x_val, covid_x_val), axis=0)\n",
        "X_test = np.concatenate((normal_x_test, covid_x_test), axis=0)\n",
        "y_train = np.concatenate((normal_y_train, covid_y_train), axis=0)\n",
        "y_val = np.concatenate((normal_y_val, covid_y_val), axis=0)\n",
        "y_test = np.concatenate((normal_y_test, covid_y_test), axis=0)\n",
        "\n",
        "# make labels into categories - either 0 or 1\n",
        "y_train = LabelBinarizer().fit_transform(y_train)\n",
        "y_train = to_categorical(y_train)\n",
        "\n",
        "y_val = LabelBinarizer().fit_transform(y_val)\n",
        "y_val = to_categorical(y_val)\n",
        "\n",
        "y_test = LabelBinarizer().fit_transform(y_test)\n",
        "y_test = to_categorical(y_test)# split into training(0.7) and testing(0.15) and validation(0.15)\n",
        "covid_x_train, covid_x_val, covid_y_train, covid_y_val= train_test_split(\n",
        "    covid_images, covid_labels, test_size=0.3)\n",
        "covid_x_test, covid_x_val, covid_y_test, covid_y_val= train_test_split(\n",
        "    covid_x_val, covid_y_val, test_size=0.5)\n",
        "\n",
        "normal_x_train, normal_x_val, normal_y_train, normal_y_val = train_test_split(\n",
        "    normal_images, normal_labels, test_size=0.3)\n",
        "normal_x_test, normal_x_val, normal_y_test, normal_y_val = train_test_split(\n",
        "    normal_x_val, normal_y_val, test_size=0.5)\n",
        "\n",
        "\n",
        "\n",
        "X_train = np.concatenate((normal_x_train, covid_x_train), axis=0)\n",
        "X_val = np.concatenate((normal_x_val, covid_x_val), axis=0)\n",
        "X_test = np.concatenate((normal_x_test, covid_x_test), axis=0)\n",
        "y_train = np.concatenate((normal_y_train, covid_y_train), axis=0)\n",
        "y_val = np.concatenate((normal_y_val, covid_y_val), axis=0)\n",
        "y_test = np.concatenate((normal_y_test, covid_y_test), axis=0)\n",
        "\n",
        "# make labels into categories - either 0 or 1\n",
        "y_train = LabelBinarizer().fit_transform(y_train)\n",
        "y_train = to_categorical(y_train)\n",
        "\n",
        "y_val = LabelBinarizer().fit_transform(y_val)\n",
        "y_val = to_categorical(y_val)\n",
        "\n",
        "y_test = LabelBinarizer().fit_transform(y_test)\n",
        "y_test = to_categorical(y_test)"
      ],
      "execution_count": null,
      "outputs": [
        {
          "output_type": "stream",
          "text": [
            "Using TensorFlow backend.\n"
          ],
          "name": "stderr"
        }
      ]
    },
    {
      "cell_type": "code",
      "metadata": {
        "id": "lKJMqf0kA51l",
        "colab_type": "code",
        "colab": {}
      },
      "source": [
        "from tensorflow.keras.preprocessing.image import ImageDataGenerator\n",
        "\n",
        "train_aug = ImageDataGenerator(\n",
        "    rotation_range=20,\n",
        "    width_shift_range=0.2,\n",
        "    height_shift_range=0.2,\n",
        "    horizontal_flip=True\n",
        ")\n"
      ],
      "execution_count": null,
      "outputs": []
    },
    {
      "cell_type": "markdown",
      "metadata": {
        "id": "WKqp9ZPDkFXP",
        "colab_type": "text"
      },
      "source": [
        "# Modeling With Keras"
      ]
    },
    {
      "cell_type": "code",
      "metadata": {
        "id": "6amZPlFJJpRN",
        "colab_type": "code",
        "colab": {}
      },
      "source": [
        "from tensorflow import keras\n",
        "\n",
        "from kerastuner.tuners import RandomSearch\n",
        "from kerastuner.engine.hyperparameters import HyperParameters\n",
        "from tensorflow.keras.preprocessing.image import ImageDataGenerator\n",
        "from tensorflow.keras.applications import VGG19\n",
        "from tensorflow.keras.models import Model\n",
        "from tensorflow.keras.layers import Input\n",
        "from tensorflow.keras.layers import Flatten # Convert pools feature map into this large feature vector\n",
        "from tensorflow.keras.layers import Dropout\n",
        "from tensorflow.keras.layers import Dense\n",
        "from tensorflow.keras.layers import Conv2D, ZeroPadding2D, BatchNormalization, Activation, MaxPooling2D\n"
      ],
      "execution_count": null,
      "outputs": []
    },
    {
      "cell_type": "code",
      "metadata": {
        "id": "gpXIvnJIkE0n",
        "colab_type": "code",
        "colab": {}
      },
      "source": [
        "def build_model(hp):  # random search passes this hyperparameter() object \n",
        "    vggModel = VGG19(weights=\"imagenet\", include_top=False,\n",
        "    input_tensor=Input(shape=(224, 224, 3)))\n",
        "    outputs = vggModel.output\n",
        "    \n",
        "    m_filters = 256\n",
        "    m_kernel_size = (1, 1)  # (3, 3) # (1, 1)\n",
        "    m_pool_size = (2, 2)    # (2, 2) # (1, 1) # to reduce the computation time and potential overfitting\n",
        "    # also pick out the most activated pixels and disgard the lower value pixels\n",
        "    m_stride_size = (1, 1)  # (1, 1) # (2, 2)\n",
        "    \n",
        "    outputs = Conv2D(filters = m_filters, kernel_size = m_kernel_size, strides = m_stride_size, name = 'conv0')(outputs)\n",
        "    outputs = BatchNormalization(axis = 3, name = 'bn0')(outputs)\n",
        "    outputs = Activation('relu')(outputs) \n",
        "    outputs = MaxPooling2D(m_pool_size, strides = m_stride_size, name='max_pool0')(outputs) \n",
        "\n",
        "    outputs = Conv2D(filters = m_filters, kernel_size = m_kernel_size, strides = m_stride_size, name = 'conv1')(outputs)\n",
        "    outputs = BatchNormalization(axis = 3, name = 'bn1')(outputs)\n",
        "    outputs = Activation('relu')(outputs) \n",
        "    outputs = Dropout(0.5)(outputs)\n",
        "\n",
        "    outputs = Conv2D(filters = m_filters, kernel_size = m_kernel_size, strides = m_stride_size, name = 'conv2')(outputs)\n",
        "    outputs = BatchNormalization(axis = 3, name = 'bn2')(outputs)\n",
        "    outputs = Activation('relu')(outputs) \n",
        "    outputs = MaxPooling2D(pool_size = m_pool_size, strides = m_stride_size, name='max_pool1')(outputs)\n",
        "\n",
        "    outputs = Flatten(name=\"flatten\")(outputs)\n",
        "    outputs = Dropout(0.5)(outputs)\n",
        "    outputs = Dense(2, activation=\"softmax\")(outputs)\n",
        "\n",
        "    model = Model(inputs = vggModel.input, outputs = outputs)\n",
        "\n",
        "    for layer in vggModel.layers:\n",
        "        layer.trainable = False\n",
        "\n",
        "    model.compile(optimizer=keras.optimizers.Adam(\n",
        "                hp.Float(\n",
        "                    'learning_rate',\n",
        "                    min_value=1e-4,\n",
        "                    max_value=1e-2,\n",
        "                    sampling='LOG',\n",
        "                    default=1e-3\n",
        "                )\n",
        "            ),\n",
        "                  loss=\"categorical_crossentropy\",\n",
        "                  metrics=[\"accuracy\"])\n",
        "    return model\n",
        "   \n",
        "    "
      ],
      "execution_count": null,
      "outputs": []
    },
    {
      "cell_type": "code",
      "metadata": {
        "id": "t92S9v3vOgzm",
        "colab_type": "code",
        "colab": {
          "base_uri": "https://localhost:8080/",
          "height": 1000
        },
        "outputId": "26f3b9b5-ec1f-4766-e893-70050099866c"
      },
      "source": [
        "import time\n",
        "LOG_DIR = f\"{int(time.time())}\"\n",
        "\n",
        "tuner = RandomSearch(\n",
        "    build_model,\n",
        "    objective='val_accuracy',\n",
        "    max_trials=3,  # how many model variations to test?\n",
        "    executions_per_trial=5,  # how many trials per variation? (same model could perform differently)\n",
        "    directory=LOG_DIR)\n",
        "# earlystop = EarlyStopping(monitor = 'loss',patience = 5, baseline = None)\n",
        "tuner.search(train_aug.flow(X_train, y_train, batch_size=32),\n",
        "                    validation_data=(X_val, y_val),\n",
        "                    validation_steps=len(X_val) / 32,\n",
        "                    steps_per_epoch=len(X_train) / 32,\n",
        "                    epochs=100)"
      ],
      "execution_count": null,
      "outputs": [
        {
          "output_type": "stream",
          "text": [
            "WARNING:tensorflow:Unresolved object in checkpoint: (root).optimizer.iter\n",
            "WARNING:tensorflow:Unresolved object in checkpoint: (root).optimizer.beta_1\n",
            "WARNING:tensorflow:Unresolved object in checkpoint: (root).optimizer.beta_2\n",
            "WARNING:tensorflow:Unresolved object in checkpoint: (root).optimizer.decay\n",
            "WARNING:tensorflow:Unresolved object in checkpoint: (root).optimizer.learning_rate\n",
            "WARNING:tensorflow:A checkpoint was restored (e.g. tf.train.Checkpoint.restore or tf.keras.Model.load_weights) but not all checkpointed values were used. See above for specific issues. Use expect_partial() on the load status object, e.g. tf.train.Checkpoint.restore(...).expect_partial(), to silence these warnings, or use assert_consumed() to make the check explicit. See https://www.tensorflow.org/guide/checkpoint#loading_mechanics for details.\n",
            "WARNING:tensorflow:sample_weight modes were coerced from\n",
            "  ...\n",
            "    to  \n",
            "  ['...']\n",
            "Train for 4.15625 steps, validate on 29 samples\n",
            "Epoch 1/100\n",
            "5/4 [====================================] - 2s 476ms/step - loss: 3.9057 - accuracy: 0.5564 - val_loss: 0.7942 - val_accuracy: 0.4828\n",
            "Epoch 2/100\n",
            "5/4 [====================================] - 2s 305ms/step - loss: 2.2021 - accuracy: 0.6015 - val_loss: 0.6309 - val_accuracy: 0.5862\n",
            "Epoch 3/100\n",
            "5/4 [====================================] - 2s 456ms/step - loss: 1.6488 - accuracy: 0.6391 - val_loss: 0.5534 - val_accuracy: 0.6897\n",
            "Epoch 4/100\n",
            "5/4 [====================================] - 1s 273ms/step - loss: 1.0685 - accuracy: 0.6165 - val_loss: 0.9137 - val_accuracy: 0.4828\n",
            "Epoch 5/100\n",
            "5/4 [====================================] - 1s 269ms/step - loss: 0.8421 - accuracy: 0.6842 - val_loss: 1.1789 - val_accuracy: 0.4828\n",
            "Epoch 6/100\n",
            "5/4 [====================================] - 1s 288ms/step - loss: 0.6231 - accuracy: 0.7669 - val_loss: 1.0710 - val_accuracy: 0.4828\n",
            "Epoch 7/100\n",
            "5/4 [====================================] - 1s 277ms/step - loss: 0.7441 - accuracy: 0.7368 - val_loss: 0.6391 - val_accuracy: 0.6552\n",
            "Epoch 8/100\n",
            "5/4 [====================================] - 1s 278ms/step - loss: 0.7377 - accuracy: 0.7744 - val_loss: 1.0862 - val_accuracy: 0.4828\n",
            "Epoch 9/100\n",
            "5/4 [====================================] - 1s 277ms/step - loss: 0.5955 - accuracy: 0.7895 - val_loss: 1.5365 - val_accuracy: 0.4828\n",
            "Epoch 10/100\n",
            "5/4 [====================================] - 1s 277ms/step - loss: 0.5849 - accuracy: 0.8346 - val_loss: 1.8406 - val_accuracy: 0.4828\n",
            "Epoch 11/100\n",
            "5/4 [====================================] - 1s 276ms/step - loss: 0.5816 - accuracy: 0.7895 - val_loss: 3.1562 - val_accuracy: 0.4828\n",
            "Epoch 12/100\n",
            "5/4 [====================================] - 1s 286ms/step - loss: 0.6564 - accuracy: 0.7744 - val_loss: 2.5306 - val_accuracy: 0.4828\n",
            "Epoch 13/100\n",
            "5/4 [====================================] - 1s 283ms/step - loss: 0.7364 - accuracy: 0.8045 - val_loss: 2.7373 - val_accuracy: 0.4828\n",
            "Epoch 14/100\n",
            "5/4 [====================================] - 1s 283ms/step - loss: 0.5597 - accuracy: 0.8195 - val_loss: 3.3630 - val_accuracy: 0.4828\n",
            "Epoch 15/100\n",
            "5/4 [====================================] - 1s 284ms/step - loss: 0.4796 - accuracy: 0.8421 - val_loss: 3.1609 - val_accuracy: 0.4828\n",
            "Epoch 16/100\n",
            "5/4 [====================================] - 1s 280ms/step - loss: 0.3013 - accuracy: 0.8571 - val_loss: 2.6072 - val_accuracy: 0.4828\n",
            "Epoch 17/100\n",
            "5/4 [====================================] - 1s 282ms/step - loss: 0.2597 - accuracy: 0.8647 - val_loss: 2.4559 - val_accuracy: 0.4828\n",
            "Epoch 18/100\n",
            "5/4 [====================================] - 1s 288ms/step - loss: 0.3341 - accuracy: 0.8647 - val_loss: 2.5833 - val_accuracy: 0.4828\n",
            "Epoch 19/100\n",
            "5/4 [====================================] - 1s 278ms/step - loss: 0.4365 - accuracy: 0.8421 - val_loss: 3.0370 - val_accuracy: 0.4828\n",
            "Epoch 20/100\n",
            "5/4 [====================================] - 1s 275ms/step - loss: 0.3994 - accuracy: 0.8647 - val_loss: 1.5459 - val_accuracy: 0.4828\n",
            "Epoch 21/100\n",
            "5/4 [====================================] - 1s 275ms/step - loss: 0.4158 - accuracy: 0.8421 - val_loss: 2.7190 - val_accuracy: 0.4828\n",
            "Epoch 22/100\n",
            "5/4 [====================================] - 1s 274ms/step - loss: 0.3734 - accuracy: 0.8571 - val_loss: 0.8841 - val_accuracy: 0.5862\n",
            "Epoch 23/100\n",
            "5/4 [====================================] - 1s 277ms/step - loss: 0.5504 - accuracy: 0.8120 - val_loss: 1.9670 - val_accuracy: 0.4828\n",
            "Epoch 24/100\n",
            "5/4 [====================================] - 1s 274ms/step - loss: 0.6459 - accuracy: 0.8271 - val_loss: 3.5168 - val_accuracy: 0.4828\n",
            "Epoch 25/100\n",
            "5/4 [====================================] - 1s 272ms/step - loss: 0.3926 - accuracy: 0.8872 - val_loss: 1.4637 - val_accuracy: 0.5172\n",
            "Epoch 26/100\n",
            "5/4 [====================================] - 1s 279ms/step - loss: 0.7460 - accuracy: 0.8346 - val_loss: 5.1385 - val_accuracy: 0.4828\n",
            "Epoch 27/100\n",
            "5/4 [====================================] - 1s 278ms/step - loss: 0.6071 - accuracy: 0.7970 - val_loss: 1.9607 - val_accuracy: 0.5172\n",
            "Epoch 28/100\n",
            "5/4 [====================================] - 1s 278ms/step - loss: 0.6110 - accuracy: 0.8496 - val_loss: 3.8917 - val_accuracy: 0.4828\n",
            "Epoch 29/100\n",
            "5/4 [====================================] - 1s 278ms/step - loss: 0.6749 - accuracy: 0.8421 - val_loss: 4.1095 - val_accuracy: 0.4828\n",
            "Epoch 30/100\n",
            "5/4 [====================================] - 1s 276ms/step - loss: 0.3389 - accuracy: 0.9173 - val_loss: 4.1618 - val_accuracy: 0.4828\n",
            "Epoch 31/100\n",
            "5/4 [====================================] - 1s 273ms/step - loss: 0.4291 - accuracy: 0.8872 - val_loss: 2.1316 - val_accuracy: 0.5517\n",
            "Epoch 32/100\n",
            "5/4 [====================================] - 1s 275ms/step - loss: 0.3045 - accuracy: 0.8947 - val_loss: 2.5971 - val_accuracy: 0.5517\n",
            "Epoch 33/100\n",
            "5/4 [====================================] - 1s 278ms/step - loss: 0.2511 - accuracy: 0.9323 - val_loss: 2.0113 - val_accuracy: 0.6207\n",
            "Epoch 34/100\n",
            "5/4 [====================================] - 2s 304ms/step - loss: 0.2561 - accuracy: 0.8872 - val_loss: 0.9412 - val_accuracy: 0.7931\n",
            "Epoch 35/100\n",
            "5/4 [====================================] - 1s 276ms/step - loss: 0.2700 - accuracy: 0.9098 - val_loss: 0.7779 - val_accuracy: 0.7931\n",
            "Epoch 36/100\n",
            "5/4 [====================================] - 1s 272ms/step - loss: 0.2655 - accuracy: 0.9023 - val_loss: 0.8440 - val_accuracy: 0.7931\n",
            "Epoch 37/100\n",
            "5/4 [====================================] - 2s 311ms/step - loss: 0.2034 - accuracy: 0.9474 - val_loss: 0.4503 - val_accuracy: 0.8621\n",
            "Epoch 38/100\n",
            "5/4 [====================================] - 1s 277ms/step - loss: 0.3884 - accuracy: 0.8947 - val_loss: 1.0599 - val_accuracy: 0.7241\n",
            "Epoch 39/100\n",
            "5/4 [====================================] - 1s 285ms/step - loss: 0.4775 - accuracy: 0.8722 - val_loss: 0.3899 - val_accuracy: 0.8276\n",
            "Epoch 40/100\n",
            "5/4 [====================================] - 1s 280ms/step - loss: 0.3927 - accuracy: 0.8872 - val_loss: 0.8085 - val_accuracy: 0.8276\n",
            "Epoch 41/100\n",
            "5/4 [====================================] - 1s 273ms/step - loss: 0.1971 - accuracy: 0.9098 - val_loss: 0.4463 - val_accuracy: 0.8276\n",
            "Epoch 42/100\n",
            "5/4 [====================================] - 1s 286ms/step - loss: 0.1835 - accuracy: 0.9323 - val_loss: 0.4780 - val_accuracy: 0.7931\n",
            "Epoch 43/100\n",
            "5/4 [====================================] - 1s 277ms/step - loss: 0.1882 - accuracy: 0.9474 - val_loss: 0.9297 - val_accuracy: 0.7586\n",
            "Epoch 44/100\n",
            "5/4 [====================================] - 1s 276ms/step - loss: 0.2283 - accuracy: 0.9248 - val_loss: 2.1750 - val_accuracy: 0.6552\n",
            "Epoch 45/100\n",
            "5/4 [====================================] - 1s 279ms/step - loss: 0.3491 - accuracy: 0.8947 - val_loss: 1.6424 - val_accuracy: 0.6897\n",
            "Epoch 46/100\n",
            "5/4 [====================================] - 1s 274ms/step - loss: 0.2097 - accuracy: 0.9398 - val_loss: 1.2694 - val_accuracy: 0.7241\n",
            "Epoch 47/100\n",
            "5/4 [====================================] - 1s 271ms/step - loss: 0.1724 - accuracy: 0.9474 - val_loss: 0.9485 - val_accuracy: 0.8276\n",
            "Epoch 48/100\n",
            "5/4 [====================================] - 1s 270ms/step - loss: 0.1723 - accuracy: 0.9398 - val_loss: 1.1864 - val_accuracy: 0.7586\n",
            "Epoch 49/100\n",
            "5/4 [====================================] - 1s 272ms/step - loss: 0.2125 - accuracy: 0.9248 - val_loss: 1.4119 - val_accuracy: 0.7586\n",
            "Epoch 50/100\n",
            "5/4 [====================================] - 1s 273ms/step - loss: 0.2465 - accuracy: 0.9398 - val_loss: 0.7543 - val_accuracy: 0.7931\n",
            "Epoch 51/100\n",
            "5/4 [====================================] - 1s 300ms/step - loss: 0.1507 - accuracy: 0.9474 - val_loss: 0.8375 - val_accuracy: 0.8966\n",
            "Epoch 52/100\n",
            "5/4 [====================================] - 1s 276ms/step - loss: 0.2243 - accuracy: 0.9173 - val_loss: 0.6471 - val_accuracy: 0.7931\n",
            "Epoch 53/100\n",
            "5/4 [====================================] - 1s 280ms/step - loss: 0.0992 - accuracy: 0.9549 - val_loss: 0.7558 - val_accuracy: 0.8621\n",
            "Epoch 54/100\n",
            "5/4 [====================================] - 1s 289ms/step - loss: 0.3310 - accuracy: 0.9248 - val_loss: 0.9769 - val_accuracy: 0.7241\n",
            "Epoch 55/100\n",
            "5/4 [====================================] - 1s 275ms/step - loss: 0.0509 - accuracy: 0.9699 - val_loss: 0.5552 - val_accuracy: 0.8276\n",
            "Epoch 56/100\n",
            "5/4 [====================================] - 1s 270ms/step - loss: 0.2944 - accuracy: 0.9023 - val_loss: 1.1581 - val_accuracy: 0.7931\n",
            "Epoch 57/100\n",
            "5/4 [====================================] - 1s 267ms/step - loss: 0.1987 - accuracy: 0.9248 - val_loss: 0.7068 - val_accuracy: 0.7586\n",
            "Epoch 58/100\n",
            "5/4 [====================================] - 1s 277ms/step - loss: 0.1517 - accuracy: 0.9474 - val_loss: 3.8981 - val_accuracy: 0.5172\n",
            "Epoch 59/100\n",
            "5/4 [====================================] - 1s 277ms/step - loss: 0.1137 - accuracy: 0.9699 - val_loss: 4.7717 - val_accuracy: 0.4828\n",
            "Epoch 60/100\n",
            "5/4 [====================================] - 1s 275ms/step - loss: 0.1321 - accuracy: 0.9549 - val_loss: 1.0571 - val_accuracy: 0.7241\n",
            "Epoch 61/100\n",
            "5/4 [====================================] - 1s 269ms/step - loss: 0.2127 - accuracy: 0.9398 - val_loss: 2.6988 - val_accuracy: 0.6207\n",
            "Epoch 62/100\n",
            "5/4 [====================================] - 1s 281ms/step - loss: 0.3655 - accuracy: 0.9023 - val_loss: 2.9835 - val_accuracy: 0.6552\n",
            "Epoch 63/100\n",
            "5/4 [====================================] - 1s 273ms/step - loss: 0.3021 - accuracy: 0.9098 - val_loss: 1.0451 - val_accuracy: 0.7931\n",
            "Epoch 64/100\n",
            "5/4 [====================================] - 1s 276ms/step - loss: 0.1190 - accuracy: 0.9624 - val_loss: 1.5095 - val_accuracy: 0.8621\n",
            "Epoch 65/100\n",
            "5/4 [====================================] - 1s 271ms/step - loss: 0.0957 - accuracy: 0.9549 - val_loss: 1.2828 - val_accuracy: 0.8276\n",
            "Epoch 66/100\n",
            "5/4 [====================================] - 1s 274ms/step - loss: 0.1505 - accuracy: 0.9323 - val_loss: 1.1953 - val_accuracy: 0.8276\n",
            "Epoch 67/100\n",
            "5/4 [====================================] - 1s 280ms/step - loss: 0.1424 - accuracy: 0.9173 - val_loss: 1.3994 - val_accuracy: 0.8276\n",
            "Epoch 68/100\n",
            "5/4 [====================================] - 1s 274ms/step - loss: 0.1611 - accuracy: 0.9549 - val_loss: 1.2240 - val_accuracy: 0.8276\n",
            "Epoch 69/100\n",
            "5/4 [====================================] - 1s 279ms/step - loss: 0.1966 - accuracy: 0.9398 - val_loss: 0.5107 - val_accuracy: 0.8966\n",
            "Epoch 70/100\n",
            "5/4 [====================================] - 1s 276ms/step - loss: 0.1661 - accuracy: 0.9699 - val_loss: 0.6049 - val_accuracy: 0.8276\n",
            "Epoch 71/100\n",
            "5/4 [====================================] - 1s 278ms/step - loss: 0.0837 - accuracy: 0.9549 - val_loss: 1.4279 - val_accuracy: 0.7586\n",
            "Epoch 72/100\n",
            "5/4 [====================================] - 1s 277ms/step - loss: 0.0661 - accuracy: 0.9699 - val_loss: 3.6889 - val_accuracy: 0.6552\n",
            "Epoch 73/100\n",
            "5/4 [====================================] - 1s 280ms/step - loss: 0.0502 - accuracy: 0.9624 - val_loss: 3.7839 - val_accuracy: 0.6897\n",
            "Epoch 74/100\n",
            "5/4 [====================================] - 1s 276ms/step - loss: 0.0626 - accuracy: 0.9624 - val_loss: 1.0351 - val_accuracy: 0.8621\n",
            "Epoch 75/100\n",
            "5/4 [====================================] - 1s 275ms/step - loss: 0.1820 - accuracy: 0.9549 - val_loss: 1.2708 - val_accuracy: 0.8276\n",
            "Epoch 76/100\n",
            "5/4 [====================================] - 1s 279ms/step - loss: 0.2669 - accuracy: 0.9323 - val_loss: 12.8180 - val_accuracy: 0.4828\n",
            "Epoch 77/100\n",
            "5/4 [====================================] - 1s 273ms/step - loss: 0.1286 - accuracy: 0.9248 - val_loss: 7.7959 - val_accuracy: 0.5172\n",
            "Epoch 78/100\n",
            "5/4 [====================================] - 1s 279ms/step - loss: 0.1683 - accuracy: 0.9549 - val_loss: 2.0810 - val_accuracy: 0.7241\n",
            "Epoch 79/100\n",
            "5/4 [====================================] - 1s 276ms/step - loss: 0.2000 - accuracy: 0.9549 - val_loss: 9.5191 - val_accuracy: 0.4828\n",
            "Epoch 80/100\n",
            "5/4 [====================================] - 1s 269ms/step - loss: 0.1478 - accuracy: 0.9549 - val_loss: 8.3725 - val_accuracy: 0.4828\n",
            "Epoch 81/100\n",
            "5/4 [====================================] - 1s 275ms/step - loss: 0.1268 - accuracy: 0.9474 - val_loss: 2.3710 - val_accuracy: 0.8276\n",
            "Epoch 82/100\n",
            "5/4 [====================================] - 1s 277ms/step - loss: 0.2463 - accuracy: 0.9474 - val_loss: 0.8648 - val_accuracy: 0.7586\n",
            "Epoch 83/100\n",
            "5/4 [====================================] - 1s 277ms/step - loss: 0.2309 - accuracy: 0.9398 - val_loss: 1.1772 - val_accuracy: 0.8276\n",
            "Epoch 84/100\n",
            "5/4 [====================================] - 1s 274ms/step - loss: 0.2523 - accuracy: 0.9474 - val_loss: 5.5684 - val_accuracy: 0.6207\n",
            "Epoch 85/100\n",
            "5/4 [====================================] - 1s 272ms/step - loss: 0.0964 - accuracy: 0.9549 - val_loss: 6.9217 - val_accuracy: 0.6207\n",
            "Epoch 86/100\n",
            "5/4 [====================================] - 1s 280ms/step - loss: 0.2003 - accuracy: 0.9398 - val_loss: 5.0571 - val_accuracy: 0.7241\n",
            "Epoch 87/100\n",
            "5/4 [====================================] - 1s 271ms/step - loss: 0.0905 - accuracy: 0.9774 - val_loss: 3.1741 - val_accuracy: 0.7586\n",
            "Epoch 88/100\n",
            "5/4 [====================================] - 1s 277ms/step - loss: 0.2894 - accuracy: 0.9474 - val_loss: 5.5878 - val_accuracy: 0.6897\n",
            "Epoch 89/100\n",
            "5/4 [====================================] - 1s 280ms/step - loss: 0.0971 - accuracy: 0.9699 - val_loss: 9.1171 - val_accuracy: 0.6207\n",
            "Epoch 90/100\n",
            "5/4 [====================================] - 1s 270ms/step - loss: 0.2659 - accuracy: 0.9173 - val_loss: 2.6966 - val_accuracy: 0.7586\n",
            "Epoch 91/100\n",
            "5/4 [====================================] - 1s 274ms/step - loss: 0.2532 - accuracy: 0.9323 - val_loss: 2.0998 - val_accuracy: 0.8621\n",
            "Epoch 92/100\n",
            "5/4 [====================================] - 1s 274ms/step - loss: 0.1580 - accuracy: 0.9624 - val_loss: 1.9188 - val_accuracy: 0.8621\n",
            "Epoch 93/100\n",
            "5/4 [====================================] - 1s 277ms/step - loss: 0.1470 - accuracy: 0.9549 - val_loss: 1.4679 - val_accuracy: 0.7241\n",
            "Epoch 94/100\n",
            "5/4 [====================================] - 1s 282ms/step - loss: 0.1051 - accuracy: 0.9549 - val_loss: 5.0097 - val_accuracy: 0.6897\n",
            "Epoch 95/100\n",
            "5/4 [====================================] - 1s 274ms/step - loss: 0.0937 - accuracy: 0.9699 - val_loss: 3.6129 - val_accuracy: 0.6897\n",
            "Epoch 96/100\n",
            "5/4 [====================================] - 1s 283ms/step - loss: 0.0462 - accuracy: 0.9774 - val_loss: 6.5872 - val_accuracy: 0.5172\n",
            "Epoch 97/100\n",
            "5/4 [====================================] - 1s 285ms/step - loss: 0.0700 - accuracy: 0.9624 - val_loss: 10.0528 - val_accuracy: 0.4828\n",
            "Epoch 98/100\n",
            "5/4 [====================================] - 1s 283ms/step - loss: 0.0308 - accuracy: 0.9850 - val_loss: 12.0711 - val_accuracy: 0.4828\n",
            "Epoch 99/100\n",
            "5/4 [====================================] - 1s 277ms/step - loss: 0.0980 - accuracy: 0.9549 - val_loss: 4.4313 - val_accuracy: 0.6552\n",
            "Epoch 100/100\n",
            "5/4 [====================================] - 1s 277ms/step - loss: 0.3638 - accuracy: 0.9699 - val_loss: 3.1847 - val_accuracy: 0.6552\n"
          ],
          "name": "stdout"
        },
        {
          "output_type": "display_data",
          "data": {
            "text/html": [
              "<span style=\"color:#4527A0\"><h1 style=\"font-size:18px\">Trial complete</h1></span>"
            ],
            "text/plain": [
              "<IPython.core.display.HTML object>"
            ]
          },
          "metadata": {
            "tags": []
          }
        },
        {
          "output_type": "display_data",
          "data": {
            "text/html": [
              "<span style=\"color:#4527A0\"><h1 style=\"font-size:18px\">Trial summary</h1></span>"
            ],
            "text/plain": [
              "<IPython.core.display.HTML object>"
            ]
          },
          "metadata": {
            "tags": []
          }
        },
        {
          "output_type": "display_data",
          "data": {
            "text/html": [
              "<span style=\"color:cyan\"> |-Trial ID: c2e4fcb547c9ca25fb8aa34461ce8284</span>"
            ],
            "text/plain": [
              "<IPython.core.display.HTML object>"
            ]
          },
          "metadata": {
            "tags": []
          }
        },
        {
          "output_type": "display_data",
          "data": {
            "text/html": [
              "<span style=\"color:cyan\"> |-Score: 0.8965517282485962</span>"
            ],
            "text/plain": [
              "<IPython.core.display.HTML object>"
            ]
          },
          "metadata": {
            "tags": []
          }
        },
        {
          "output_type": "display_data",
          "data": {
            "text/html": [
              "<span style=\"color:cyan\"> |-Best step: 0</span>"
            ],
            "text/plain": [
              "<IPython.core.display.HTML object>"
            ]
          },
          "metadata": {
            "tags": []
          }
        },
        {
          "output_type": "display_data",
          "data": {
            "text/html": [
              "<span style=\"color:#7E57C2\"><h2 style=\"font-size:16px\">Hyperparameters:</h2></span>"
            ],
            "text/plain": [
              "<IPython.core.display.HTML object>"
            ]
          },
          "metadata": {
            "tags": []
          }
        },
        {
          "output_type": "display_data",
          "data": {
            "text/html": [
              "<span style=\"color:cyan\"> |-learning_rate: 0.0021726762931534105</span>"
            ],
            "text/plain": [
              "<IPython.core.display.HTML object>"
            ]
          },
          "metadata": {
            "tags": []
          }
        },
        {
          "output_type": "stream",
          "text": [
            "WARNING:tensorflow:sample_weight modes were coerced from\n",
            "  ...\n",
            "    to  \n",
            "  ['...']\n",
            "Train for 4.15625 steps, validate on 29 samples\n",
            "Epoch 1/100\n",
            "5/4 [====================================] - 2s 478ms/step - loss: 1.0731 - accuracy: 0.5338 - val_loss: 0.7169 - val_accuracy: 0.5172\n",
            "Epoch 2/100\n",
            "5/4 [====================================] - 1s 299ms/step - loss: 1.7413 - accuracy: 0.5338 - val_loss: 0.6854 - val_accuracy: 0.5862\n",
            "Epoch 3/100\n",
            "5/4 [====================================] - 1s 275ms/step - loss: 1.1224 - accuracy: 0.5940 - val_loss: 0.6973 - val_accuracy: 0.5172\n",
            "Epoch 4/100\n",
            "5/4 [====================================] - 1s 287ms/step - loss: 1.2395 - accuracy: 0.5714 - val_loss: 0.6776 - val_accuracy: 0.5517\n",
            "Epoch 5/100\n",
            "5/4 [====================================] - 1s 273ms/step - loss: 1.1622 - accuracy: 0.5414 - val_loss: 0.6745 - val_accuracy: 0.5517\n",
            "Epoch 6/100\n",
            "5/4 [====================================] - 1s 271ms/step - loss: 0.8469 - accuracy: 0.6391 - val_loss: 0.6766 - val_accuracy: 0.5517\n",
            "Epoch 7/100\n",
            "5/4 [====================================] - 1s 283ms/step - loss: 0.8389 - accuracy: 0.6692 - val_loss: 0.6696 - val_accuracy: 0.5517\n",
            "Epoch 8/100\n",
            "5/4 [====================================] - 1s 272ms/step - loss: 0.9270 - accuracy: 0.6241 - val_loss: 0.6626 - val_accuracy: 0.5862\n",
            "Epoch 9/100\n",
            "5/4 [====================================] - 1s 282ms/step - loss: 0.6355 - accuracy: 0.7218 - val_loss: 0.6568 - val_accuracy: 0.5862\n",
            "Epoch 10/100\n",
            "5/4 [====================================] - 1s 282ms/step - loss: 0.6960 - accuracy: 0.6917 - val_loss: 0.6533 - val_accuracy: 0.5862\n",
            "Epoch 11/100\n",
            "5/4 [====================================] - 1s 279ms/step - loss: 0.8363 - accuracy: 0.6917 - val_loss: 0.6478 - val_accuracy: 0.5862\n",
            "Epoch 12/100\n",
            "5/4 [====================================] - 1s 281ms/step - loss: 0.8407 - accuracy: 0.6692 - val_loss: 0.6394 - val_accuracy: 0.5862\n",
            "Epoch 13/100\n",
            "5/4 [====================================] - 2s 305ms/step - loss: 0.7762 - accuracy: 0.6992 - val_loss: 0.6244 - val_accuracy: 0.7241\n",
            "Epoch 14/100\n",
            "5/4 [====================================] - 1s 273ms/step - loss: 0.7114 - accuracy: 0.6617 - val_loss: 0.6388 - val_accuracy: 0.5517\n",
            "Epoch 15/100\n",
            "5/4 [====================================] - 1s 279ms/step - loss: 0.6028 - accuracy: 0.7218 - val_loss: 0.6152 - val_accuracy: 0.6552\n",
            "Epoch 16/100\n",
            "5/4 [====================================] - 1s 277ms/step - loss: 0.7358 - accuracy: 0.6617 - val_loss: 0.6146 - val_accuracy: 0.5862\n",
            "Epoch 17/100\n",
            "5/4 [====================================] - 1s 283ms/step - loss: 0.7928 - accuracy: 0.6917 - val_loss: 0.6080 - val_accuracy: 0.5862\n",
            "Epoch 18/100\n",
            "5/4 [====================================] - 1s 275ms/step - loss: 0.5772 - accuracy: 0.7218 - val_loss: 0.6016 - val_accuracy: 0.6207\n",
            "Epoch 19/100\n",
            "5/4 [====================================] - 1s 278ms/step - loss: 0.5462 - accuracy: 0.7970 - val_loss: 0.6007 - val_accuracy: 0.6207\n",
            "Epoch 20/100\n",
            "5/4 [====================================] - 1s 275ms/step - loss: 0.4962 - accuracy: 0.7444 - val_loss: 0.5911 - val_accuracy: 0.6552\n",
            "Epoch 21/100\n",
            "5/4 [====================================] - 1s 279ms/step - loss: 0.6038 - accuracy: 0.7895 - val_loss: 0.6004 - val_accuracy: 0.5862\n",
            "Epoch 22/100\n",
            "5/4 [====================================] - 1s 278ms/step - loss: 0.6221 - accuracy: 0.7368 - val_loss: 0.6676 - val_accuracy: 0.5517\n",
            "Epoch 23/100\n",
            "5/4 [====================================] - 1s 283ms/step - loss: 0.5016 - accuracy: 0.7895 - val_loss: 0.5872 - val_accuracy: 0.5862\n",
            "Epoch 24/100\n",
            "5/4 [====================================] - 1s 279ms/step - loss: 0.5931 - accuracy: 0.7820 - val_loss: 0.5603 - val_accuracy: 0.6897\n",
            "Epoch 25/100\n",
            "5/4 [====================================] - 1s 281ms/step - loss: 0.6932 - accuracy: 0.7218 - val_loss: 0.6019 - val_accuracy: 0.5862\n",
            "Epoch 26/100\n",
            "5/4 [====================================] - 1s 270ms/step - loss: 0.5561 - accuracy: 0.7368 - val_loss: 0.5953 - val_accuracy: 0.5862\n",
            "Epoch 27/100\n",
            "5/4 [====================================] - 1s 292ms/step - loss: 0.4163 - accuracy: 0.8195 - val_loss: 0.5761 - val_accuracy: 0.5862\n",
            "Epoch 28/100\n",
            "5/4 [====================================] - 1s 288ms/step - loss: 0.6220 - accuracy: 0.7444 - val_loss: 0.6170 - val_accuracy: 0.5862\n",
            "Epoch 29/100\n",
            "5/4 [====================================] - 1s 280ms/step - loss: 0.4764 - accuracy: 0.7820 - val_loss: 0.5713 - val_accuracy: 0.5862\n",
            "Epoch 30/100\n",
            "5/4 [====================================] - 1s 280ms/step - loss: 0.5007 - accuracy: 0.8045 - val_loss: 0.5574 - val_accuracy: 0.6207\n",
            "Epoch 31/100\n",
            "5/4 [====================================] - 1s 270ms/step - loss: 0.5542 - accuracy: 0.8045 - val_loss: 0.5378 - val_accuracy: 0.6897\n",
            "Epoch 32/100\n",
            "5/4 [====================================] - 1s 287ms/step - loss: 0.4834 - accuracy: 0.8195 - val_loss: 0.4953 - val_accuracy: 0.7241\n",
            "Epoch 33/100\n",
            "5/4 [====================================] - 1s 296ms/step - loss: 0.4592 - accuracy: 0.7744 - val_loss: 0.5049 - val_accuracy: 0.7241\n",
            "Epoch 34/100\n",
            "5/4 [====================================] - 1s 289ms/step - loss: 0.4418 - accuracy: 0.8195 - val_loss: 0.4787 - val_accuracy: 0.7241\n",
            "Epoch 35/100\n",
            "5/4 [====================================] - 1s 279ms/step - loss: 0.3331 - accuracy: 0.8346 - val_loss: 0.4989 - val_accuracy: 0.7241\n",
            "Epoch 36/100\n",
            "5/4 [====================================] - 1s 274ms/step - loss: 0.4116 - accuracy: 0.7970 - val_loss: 0.4959 - val_accuracy: 0.7241\n",
            "Epoch 37/100\n",
            "5/4 [====================================] - 2s 306ms/step - loss: 0.3754 - accuracy: 0.8421 - val_loss: 0.4691 - val_accuracy: 0.7586\n",
            "Epoch 38/100\n",
            "5/4 [====================================] - 1s 283ms/step - loss: 0.3612 - accuracy: 0.8647 - val_loss: 0.4298 - val_accuracy: 0.7586\n",
            "Epoch 39/100\n",
            "5/4 [====================================] - 1s 275ms/step - loss: 0.5655 - accuracy: 0.7970 - val_loss: 0.4362 - val_accuracy: 0.6897\n",
            "Epoch 40/100\n",
            "5/4 [====================================] - 1s 273ms/step - loss: 0.3959 - accuracy: 0.8120 - val_loss: 0.4392 - val_accuracy: 0.7241\n",
            "Epoch 41/100\n",
            "5/4 [====================================] - 1s 276ms/step - loss: 0.4354 - accuracy: 0.8496 - val_loss: 0.4261 - val_accuracy: 0.7241\n",
            "Epoch 42/100\n",
            "5/4 [====================================] - 1s 278ms/step - loss: 0.4150 - accuracy: 0.8195 - val_loss: 0.5154 - val_accuracy: 0.7241\n",
            "Epoch 43/100\n",
            "5/4 [====================================] - 1s 280ms/step - loss: 0.5279 - accuracy: 0.8195 - val_loss: 0.5055 - val_accuracy: 0.7586\n",
            "Epoch 44/100\n",
            "5/4 [====================================] - 1s 297ms/step - loss: 0.3388 - accuracy: 0.8496 - val_loss: 0.4293 - val_accuracy: 0.8276\n",
            "Epoch 45/100\n",
            "5/4 [====================================] - 1s 279ms/step - loss: 0.4813 - accuracy: 0.8120 - val_loss: 0.4761 - val_accuracy: 0.6897\n",
            "Epoch 46/100\n",
            "5/4 [====================================] - 1s 272ms/step - loss: 0.3543 - accuracy: 0.8346 - val_loss: 0.5222 - val_accuracy: 0.7586\n",
            "Epoch 47/100\n",
            "5/4 [====================================] - 1s 276ms/step - loss: 0.3826 - accuracy: 0.8271 - val_loss: 0.4963 - val_accuracy: 0.7586\n",
            "Epoch 48/100\n",
            "5/4 [====================================] - 1s 275ms/step - loss: 0.3665 - accuracy: 0.8195 - val_loss: 0.5311 - val_accuracy: 0.7586\n",
            "Epoch 49/100\n",
            "5/4 [====================================] - 1s 276ms/step - loss: 0.2639 - accuracy: 0.8797 - val_loss: 0.6315 - val_accuracy: 0.7241\n",
            "Epoch 50/100\n",
            "5/4 [====================================] - 1s 280ms/step - loss: 0.3542 - accuracy: 0.8647 - val_loss: 0.6142 - val_accuracy: 0.7241\n",
            "Epoch 51/100\n",
            "5/4 [====================================] - 1s 274ms/step - loss: 0.2517 - accuracy: 0.9023 - val_loss: 0.6344 - val_accuracy: 0.7241\n",
            "Epoch 52/100\n",
            "5/4 [====================================] - 1s 271ms/step - loss: 0.4459 - accuracy: 0.8421 - val_loss: 0.5065 - val_accuracy: 0.7586\n",
            "Epoch 53/100\n",
            "5/4 [====================================] - 1s 279ms/step - loss: 0.2412 - accuracy: 0.8947 - val_loss: 0.4029 - val_accuracy: 0.7931\n",
            "Epoch 54/100\n",
            "5/4 [====================================] - 1s 277ms/step - loss: 0.3322 - accuracy: 0.8421 - val_loss: 0.4122 - val_accuracy: 0.7241\n",
            "Epoch 55/100\n",
            "5/4 [====================================] - 1s 274ms/step - loss: 0.3327 - accuracy: 0.8797 - val_loss: 0.3941 - val_accuracy: 0.7586\n",
            "Epoch 56/100\n",
            "5/4 [====================================] - 1s 276ms/step - loss: 0.3631 - accuracy: 0.8195 - val_loss: 0.5467 - val_accuracy: 0.7586\n",
            "Epoch 57/100\n",
            "5/4 [====================================] - 1s 277ms/step - loss: 0.2864 - accuracy: 0.9023 - val_loss: 0.5619 - val_accuracy: 0.7931\n",
            "Epoch 58/100\n",
            "5/4 [====================================] - 1s 276ms/step - loss: 0.2734 - accuracy: 0.8647 - val_loss: 0.5222 - val_accuracy: 0.7931\n",
            "Epoch 59/100\n",
            "5/4 [====================================] - 1s 286ms/step - loss: 0.3125 - accuracy: 0.8797 - val_loss: 0.3722 - val_accuracy: 0.8276\n",
            "Epoch 60/100\n",
            "5/4 [====================================] - 1s 276ms/step - loss: 0.3391 - accuracy: 0.8797 - val_loss: 0.3678 - val_accuracy: 0.7931\n",
            "Epoch 61/100\n",
            "5/4 [====================================] - 1s 273ms/step - loss: 0.3160 - accuracy: 0.8722 - val_loss: 0.4088 - val_accuracy: 0.7931\n",
            "Epoch 62/100\n",
            "5/4 [====================================] - 1s 272ms/step - loss: 0.2882 - accuracy: 0.8647 - val_loss: 0.7305 - val_accuracy: 0.7241\n",
            "Epoch 63/100\n",
            "5/4 [====================================] - 1s 279ms/step - loss: 0.3805 - accuracy: 0.8647 - val_loss: 0.7595 - val_accuracy: 0.7241\n",
            "Epoch 64/100\n",
            "5/4 [====================================] - 1s 285ms/step - loss: 0.1373 - accuracy: 0.9398 - val_loss: 0.5530 - val_accuracy: 0.7586\n",
            "Epoch 65/100\n",
            "5/4 [====================================] - 1s 275ms/step - loss: 0.3671 - accuracy: 0.8195 - val_loss: 0.5452 - val_accuracy: 0.7241\n",
            "Epoch 66/100\n",
            "5/4 [====================================] - 1s 278ms/step - loss: 0.4594 - accuracy: 0.8195 - val_loss: 0.4561 - val_accuracy: 0.7931\n",
            "Epoch 67/100\n",
            "5/4 [====================================] - 1s 275ms/step - loss: 0.2555 - accuracy: 0.8947 - val_loss: 0.4872 - val_accuracy: 0.7241\n",
            "Epoch 68/100\n",
            "5/4 [====================================] - 1s 276ms/step - loss: 0.1124 - accuracy: 0.9323 - val_loss: 0.4816 - val_accuracy: 0.8276\n",
            "Epoch 69/100\n",
            "5/4 [====================================] - 1s 296ms/step - loss: 0.2360 - accuracy: 0.9173 - val_loss: 0.4845 - val_accuracy: 0.7931\n",
            "Epoch 70/100\n",
            "5/4 [====================================] - 1s 272ms/step - loss: 0.1971 - accuracy: 0.9173 - val_loss: 0.4840 - val_accuracy: 0.7931\n",
            "Epoch 71/100\n",
            "5/4 [====================================] - 1s 280ms/step - loss: 0.1973 - accuracy: 0.8797 - val_loss: 0.5250 - val_accuracy: 0.7931\n",
            "Epoch 72/100\n",
            "5/4 [====================================] - 1s 281ms/step - loss: 0.2258 - accuracy: 0.8797 - val_loss: 0.8114 - val_accuracy: 0.7931\n",
            "Epoch 73/100\n",
            "5/4 [====================================] - 1s 272ms/step - loss: 0.2184 - accuracy: 0.9098 - val_loss: 0.7948 - val_accuracy: 0.7931\n",
            "Epoch 74/100\n",
            "5/4 [====================================] - 1s 285ms/step - loss: 0.2353 - accuracy: 0.9098 - val_loss: 0.5713 - val_accuracy: 0.7931\n",
            "Epoch 75/100\n",
            "5/4 [====================================] - 1s 274ms/step - loss: 0.2087 - accuracy: 0.9098 - val_loss: 0.6369 - val_accuracy: 0.7586\n",
            "Epoch 76/100\n",
            "5/4 [====================================] - 1s 293ms/step - loss: 0.2777 - accuracy: 0.8647 - val_loss: 0.5784 - val_accuracy: 0.7586\n",
            "Epoch 77/100\n",
            "5/4 [====================================] - 1s 270ms/step - loss: 0.1523 - accuracy: 0.9323 - val_loss: 0.7053 - val_accuracy: 0.7586\n",
            "Epoch 78/100\n",
            "5/4 [====================================] - 1s 273ms/step - loss: 0.1500 - accuracy: 0.9474 - val_loss: 0.7466 - val_accuracy: 0.6897\n",
            "Epoch 79/100\n",
            "5/4 [====================================] - 1s 284ms/step - loss: 0.2048 - accuracy: 0.9023 - val_loss: 0.5754 - val_accuracy: 0.7931\n",
            "Epoch 80/100\n",
            "5/4 [====================================] - 1s 271ms/step - loss: 0.1792 - accuracy: 0.8947 - val_loss: 1.0144 - val_accuracy: 0.6897\n",
            "Epoch 81/100\n",
            "5/4 [====================================] - 1s 276ms/step - loss: 0.2229 - accuracy: 0.8872 - val_loss: 1.0910 - val_accuracy: 0.6897\n",
            "Epoch 82/100\n",
            "5/4 [====================================] - 1s 274ms/step - loss: 0.2162 - accuracy: 0.9173 - val_loss: 0.7605 - val_accuracy: 0.7931\n",
            "Epoch 83/100\n",
            "5/4 [====================================] - 1s 277ms/step - loss: 0.1471 - accuracy: 0.9398 - val_loss: 0.6887 - val_accuracy: 0.7931\n",
            "Epoch 84/100\n",
            "5/4 [====================================] - 1s 281ms/step - loss: 0.1894 - accuracy: 0.9248 - val_loss: 0.7523 - val_accuracy: 0.7931\n",
            "Epoch 85/100\n",
            "5/4 [====================================] - 1s 290ms/step - loss: 0.1631 - accuracy: 0.9248 - val_loss: 0.6675 - val_accuracy: 0.7931\n",
            "Epoch 86/100\n",
            "5/4 [====================================] - 1s 275ms/step - loss: 0.1644 - accuracy: 0.9323 - val_loss: 0.5605 - val_accuracy: 0.7931\n",
            "Epoch 87/100\n",
            "5/4 [====================================] - 1s 276ms/step - loss: 0.1773 - accuracy: 0.9474 - val_loss: 0.6662 - val_accuracy: 0.7931\n",
            "Epoch 88/100\n",
            "5/4 [====================================] - 1s 283ms/step - loss: 0.1298 - accuracy: 0.9474 - val_loss: 1.4186 - val_accuracy: 0.6207\n",
            "Epoch 89/100\n",
            "5/4 [====================================] - 1s 274ms/step - loss: 0.2023 - accuracy: 0.9098 - val_loss: 1.6172 - val_accuracy: 0.6207\n",
            "Epoch 90/100\n",
            "5/4 [====================================] - 1s 273ms/step - loss: 0.1576 - accuracy: 0.9398 - val_loss: 0.9376 - val_accuracy: 0.7586\n",
            "Epoch 91/100\n",
            "5/4 [====================================] - 1s 286ms/step - loss: 0.1173 - accuracy: 0.9398 - val_loss: 1.0243 - val_accuracy: 0.7931\n",
            "Epoch 92/100\n",
            "5/4 [====================================] - 1s 287ms/step - loss: 0.1359 - accuracy: 0.9323 - val_loss: 1.1028 - val_accuracy: 0.7931\n",
            "Epoch 93/100\n",
            "5/4 [====================================] - 1s 279ms/step - loss: 0.1898 - accuracy: 0.9098 - val_loss: 1.1203 - val_accuracy: 0.7586\n",
            "Epoch 94/100\n",
            "5/4 [====================================] - 1s 277ms/step - loss: 0.1403 - accuracy: 0.9398 - val_loss: 1.2658 - val_accuracy: 0.7241\n",
            "Epoch 95/100\n",
            "5/4 [====================================] - 1s 281ms/step - loss: 0.2319 - accuracy: 0.9323 - val_loss: 0.9078 - val_accuracy: 0.7931\n",
            "Epoch 96/100\n",
            "5/4 [====================================] - 1s 272ms/step - loss: 0.1325 - accuracy: 0.9474 - val_loss: 0.7558 - val_accuracy: 0.7586\n",
            "Epoch 97/100\n",
            "5/4 [====================================] - 1s 284ms/step - loss: 0.1014 - accuracy: 0.9624 - val_loss: 0.7101 - val_accuracy: 0.7931\n",
            "Epoch 98/100\n",
            "5/4 [====================================] - 1s 287ms/step - loss: 0.1930 - accuracy: 0.9398 - val_loss: 1.0768 - val_accuracy: 0.7241\n",
            "Epoch 99/100\n",
            "5/4 [====================================] - 1s 279ms/step - loss: 0.1366 - accuracy: 0.9248 - val_loss: 2.0702 - val_accuracy: 0.5517\n",
            "Epoch 100/100\n",
            "5/4 [====================================] - 1s 275ms/step - loss: 0.1611 - accuracy: 0.9323 - val_loss: 1.0711 - val_accuracy: 0.7586\n"
          ],
          "name": "stdout"
        },
        {
          "output_type": "display_data",
          "data": {
            "text/html": [
              "<span style=\"color:#4527A0\"><h1 style=\"font-size:18px\">Trial complete</h1></span>"
            ],
            "text/plain": [
              "<IPython.core.display.HTML object>"
            ]
          },
          "metadata": {
            "tags": []
          }
        },
        {
          "output_type": "display_data",
          "data": {
            "text/html": [
              "<span style=\"color:#4527A0\"><h1 style=\"font-size:18px\">Trial summary</h1></span>"
            ],
            "text/plain": [
              "<IPython.core.display.HTML object>"
            ]
          },
          "metadata": {
            "tags": []
          }
        },
        {
          "output_type": "display_data",
          "data": {
            "text/html": [
              "<span style=\"color:cyan\"> |-Trial ID: c81dd27ed26bbd1b1ae61b03572aa60c</span>"
            ],
            "text/plain": [
              "<IPython.core.display.HTML object>"
            ]
          },
          "metadata": {
            "tags": []
          }
        },
        {
          "output_type": "display_data",
          "data": {
            "text/html": [
              "<span style=\"color:cyan\"> |-Score: 0.8275862336158752</span>"
            ],
            "text/plain": [
              "<IPython.core.display.HTML object>"
            ]
          },
          "metadata": {
            "tags": []
          }
        },
        {
          "output_type": "display_data",
          "data": {
            "text/html": [
              "<span style=\"color:cyan\"> |-Best step: 0</span>"
            ],
            "text/plain": [
              "<IPython.core.display.HTML object>"
            ]
          },
          "metadata": {
            "tags": []
          }
        },
        {
          "output_type": "display_data",
          "data": {
            "text/html": [
              "<span style=\"color:#7E57C2\"><h2 style=\"font-size:16px\">Hyperparameters:</h2></span>"
            ],
            "text/plain": [
              "<IPython.core.display.HTML object>"
            ]
          },
          "metadata": {
            "tags": []
          }
        },
        {
          "output_type": "display_data",
          "data": {
            "text/html": [
              "<span style=\"color:cyan\"> |-learning_rate: 0.000334067220168496</span>"
            ],
            "text/plain": [
              "<IPython.core.display.HTML object>"
            ]
          },
          "metadata": {
            "tags": []
          }
        },
        {
          "output_type": "stream",
          "text": [
            "WARNING:tensorflow:sample_weight modes were coerced from\n",
            "  ...\n",
            "    to  \n",
            "  ['...']\n",
            "Train for 4.15625 steps, validate on 29 samples\n",
            "Epoch 1/100\n",
            "5/4 [====================================] - 2s 489ms/step - loss: 2.4972 - accuracy: 0.4511 - val_loss: 0.7242 - val_accuracy: 0.4828\n",
            "Epoch 2/100\n",
            "5/4 [====================================] - 2s 305ms/step - loss: 1.7492 - accuracy: 0.5414 - val_loss: 0.7128 - val_accuracy: 0.5172\n",
            "Epoch 3/100\n",
            "5/4 [====================================] - 2s 457ms/step - loss: 1.8396 - accuracy: 0.4812 - val_loss: 0.6780 - val_accuracy: 0.5517\n",
            "Epoch 4/100\n",
            "5/4 [====================================] - 1s 286ms/step - loss: 1.1484 - accuracy: 0.6090 - val_loss: 0.6988 - val_accuracy: 0.5172\n",
            "Epoch 5/100\n",
            "5/4 [====================================] - 2s 309ms/step - loss: 0.9793 - accuracy: 0.6767 - val_loss: 0.6561 - val_accuracy: 0.6207\n",
            "Epoch 6/100\n",
            "5/4 [====================================] - 1s 285ms/step - loss: 1.3757 - accuracy: 0.6316 - val_loss: 0.6556 - val_accuracy: 0.5517\n",
            "Epoch 7/100\n",
            "5/4 [====================================] - 1s 287ms/step - loss: 0.6934 - accuracy: 0.6992 - val_loss: 0.6475 - val_accuracy: 0.6207\n",
            "Epoch 8/100\n",
            "5/4 [====================================] - 1s 285ms/step - loss: 0.7059 - accuracy: 0.7218 - val_loss: 0.6578 - val_accuracy: 0.5862\n",
            "Epoch 9/100\n",
            "5/4 [====================================] - 2s 302ms/step - loss: 0.7202 - accuracy: 0.6692 - val_loss: 0.6091 - val_accuracy: 0.7586\n",
            "Epoch 10/100\n",
            "5/4 [====================================] - 1s 279ms/step - loss: 0.7245 - accuracy: 0.7068 - val_loss: 0.6239 - val_accuracy: 0.6207\n",
            "Epoch 11/100\n",
            "5/4 [====================================] - 1s 275ms/step - loss: 0.7225 - accuracy: 0.7068 - val_loss: 0.5704 - val_accuracy: 0.7586\n",
            "Epoch 12/100\n",
            "5/4 [====================================] - 1s 274ms/step - loss: 0.7738 - accuracy: 0.6992 - val_loss: 0.6025 - val_accuracy: 0.7241\n",
            "Epoch 13/100\n",
            "5/4 [====================================] - 1s 269ms/step - loss: 0.6454 - accuracy: 0.7368 - val_loss: 0.6270 - val_accuracy: 0.5862\n",
            "Epoch 14/100\n",
            "5/4 [====================================] - 1s 278ms/step - loss: 0.6274 - accuracy: 0.7519 - val_loss: 0.6150 - val_accuracy: 0.5517\n",
            "Epoch 15/100\n",
            "5/4 [====================================] - 1s 280ms/step - loss: 0.5972 - accuracy: 0.7820 - val_loss: 0.5517 - val_accuracy: 0.7586\n",
            "Epoch 16/100\n",
            "5/4 [====================================] - 2s 307ms/step - loss: 0.7152 - accuracy: 0.6541 - val_loss: 0.5233 - val_accuracy: 0.8621\n",
            "Epoch 17/100\n",
            "5/4 [====================================] - 1s 275ms/step - loss: 0.4339 - accuracy: 0.8195 - val_loss: 0.5163 - val_accuracy: 0.8621\n",
            "Epoch 18/100\n",
            "5/4 [====================================] - 1s 279ms/step - loss: 0.4367 - accuracy: 0.8120 - val_loss: 0.5079 - val_accuracy: 0.7586\n",
            "Epoch 19/100\n",
            "5/4 [====================================] - 1s 269ms/step - loss: 0.4337 - accuracy: 0.7970 - val_loss: 0.5005 - val_accuracy: 0.8276\n",
            "Epoch 20/100\n",
            "5/4 [====================================] - 2s 309ms/step - loss: 0.4051 - accuracy: 0.8421 - val_loss: 0.5097 - val_accuracy: 0.8966\n",
            "Epoch 21/100\n",
            "5/4 [====================================] - 1s 278ms/step - loss: 0.4110 - accuracy: 0.8120 - val_loss: 0.5084 - val_accuracy: 0.8276\n",
            "Epoch 22/100\n",
            "5/4 [====================================] - 1s 281ms/step - loss: 0.4846 - accuracy: 0.8045 - val_loss: 0.4811 - val_accuracy: 0.7931\n",
            "Epoch 23/100\n",
            "5/4 [====================================] - 1s 275ms/step - loss: 0.4640 - accuracy: 0.7970 - val_loss: 0.4808 - val_accuracy: 0.7931\n",
            "Epoch 24/100\n",
            "5/4 [====================================] - 1s 276ms/step - loss: 0.5110 - accuracy: 0.8045 - val_loss: 0.5325 - val_accuracy: 0.6897\n",
            "Epoch 25/100\n",
            "5/4 [====================================] - 1s 280ms/step - loss: 0.4495 - accuracy: 0.8195 - val_loss: 0.6348 - val_accuracy: 0.5862\n",
            "Epoch 26/100\n",
            "5/4 [====================================] - 1s 269ms/step - loss: 0.3352 - accuracy: 0.8346 - val_loss: 0.5304 - val_accuracy: 0.7586\n",
            "Epoch 27/100\n",
            "5/4 [====================================] - 1s 277ms/step - loss: 0.3552 - accuracy: 0.8872 - val_loss: 0.4296 - val_accuracy: 0.8621\n",
            "Epoch 28/100\n",
            "5/4 [====================================] - 1s 281ms/step - loss: 0.2949 - accuracy: 0.8797 - val_loss: 0.4284 - val_accuracy: 0.7931\n",
            "Epoch 29/100\n",
            "5/4 [====================================] - 1s 278ms/step - loss: 0.2346 - accuracy: 0.9173 - val_loss: 0.4250 - val_accuracy: 0.7586\n",
            "Epoch 30/100\n",
            "5/4 [====================================] - 1s 289ms/step - loss: 0.3007 - accuracy: 0.8872 - val_loss: 0.4913 - val_accuracy: 0.6897\n",
            "Epoch 31/100\n",
            "5/4 [====================================] - 1s 283ms/step - loss: 0.3367 - accuracy: 0.8496 - val_loss: 0.4257 - val_accuracy: 0.7241\n",
            "Epoch 32/100\n",
            "5/4 [====================================] - 1s 279ms/step - loss: 0.3264 - accuracy: 0.8872 - val_loss: 0.4762 - val_accuracy: 0.6897\n",
            "Epoch 33/100\n",
            "5/4 [====================================] - 1s 291ms/step - loss: 0.3232 - accuracy: 0.9098 - val_loss: 0.7152 - val_accuracy: 0.6552\n",
            "Epoch 34/100\n",
            "5/4 [====================================] - 1s 284ms/step - loss: 0.2277 - accuracy: 0.9023 - val_loss: 0.7223 - val_accuracy: 0.6552\n",
            "Epoch 35/100\n",
            "5/4 [====================================] - 1s 276ms/step - loss: 0.1749 - accuracy: 0.9098 - val_loss: 0.5381 - val_accuracy: 0.7241\n",
            "Epoch 36/100\n",
            "5/4 [====================================] - 1s 283ms/step - loss: 0.2306 - accuracy: 0.8722 - val_loss: 0.6778 - val_accuracy: 0.6552\n",
            "Epoch 37/100\n",
            "5/4 [====================================] - 1s 278ms/step - loss: 0.3012 - accuracy: 0.8872 - val_loss: 0.5389 - val_accuracy: 0.6897\n",
            "Epoch 38/100\n",
            "5/4 [====================================] - 1s 284ms/step - loss: 0.2811 - accuracy: 0.9023 - val_loss: 0.4299 - val_accuracy: 0.7586\n",
            "Epoch 39/100\n",
            "5/4 [====================================] - 1s 279ms/step - loss: 0.2972 - accuracy: 0.8722 - val_loss: 0.9269 - val_accuracy: 0.6552\n",
            "Epoch 40/100\n",
            "5/4 [====================================] - 1s 291ms/step - loss: 0.3617 - accuracy: 0.8797 - val_loss: 0.3495 - val_accuracy: 0.8966\n",
            "Epoch 41/100\n",
            "5/4 [====================================] - 1s 279ms/step - loss: 0.3560 - accuracy: 0.8722 - val_loss: 0.3882 - val_accuracy: 0.7586\n",
            "Epoch 42/100\n",
            "5/4 [====================================] - 1s 286ms/step - loss: 0.1554 - accuracy: 0.9248 - val_loss: 0.3869 - val_accuracy: 0.8276\n",
            "Epoch 43/100\n",
            "5/4 [====================================] - 1s 273ms/step - loss: 0.2285 - accuracy: 0.9023 - val_loss: 0.3484 - val_accuracy: 0.7931\n",
            "Epoch 44/100\n",
            "5/4 [====================================] - 1s 275ms/step - loss: 0.3083 - accuracy: 0.9023 - val_loss: 0.4004 - val_accuracy: 0.7241\n",
            "Epoch 45/100\n",
            "5/4 [====================================] - 1s 276ms/step - loss: 0.3410 - accuracy: 0.8797 - val_loss: 0.6889 - val_accuracy: 0.7931\n",
            "Epoch 46/100\n",
            "5/4 [====================================] - 1s 281ms/step - loss: 0.4295 - accuracy: 0.8496 - val_loss: 0.4818 - val_accuracy: 0.7586\n",
            "Epoch 47/100\n",
            "5/4 [====================================] - 1s 284ms/step - loss: 0.4738 - accuracy: 0.8647 - val_loss: 0.8471 - val_accuracy: 0.7241\n",
            "Epoch 48/100\n",
            "5/4 [====================================] - 1s 278ms/step - loss: 0.2758 - accuracy: 0.8797 - val_loss: 0.3284 - val_accuracy: 0.7586\n",
            "Epoch 49/100\n",
            "5/4 [====================================] - 1s 275ms/step - loss: 0.3079 - accuracy: 0.8872 - val_loss: 0.3296 - val_accuracy: 0.7931\n",
            "Epoch 50/100\n",
            "5/4 [====================================] - 1s 277ms/step - loss: 0.2225 - accuracy: 0.9098 - val_loss: 0.7190 - val_accuracy: 0.7931\n",
            "Epoch 51/100\n",
            "5/4 [====================================] - 1s 281ms/step - loss: 0.2439 - accuracy: 0.9173 - val_loss: 1.3858 - val_accuracy: 0.5517\n",
            "Epoch 52/100\n",
            "5/4 [====================================] - 1s 281ms/step - loss: 0.2438 - accuracy: 0.8872 - val_loss: 0.5619 - val_accuracy: 0.7586\n",
            "Epoch 53/100\n",
            "5/4 [====================================] - 1s 282ms/step - loss: 0.2112 - accuracy: 0.9173 - val_loss: 0.3352 - val_accuracy: 0.8276\n",
            "Epoch 54/100\n",
            "5/4 [====================================] - 1s 273ms/step - loss: 0.2007 - accuracy: 0.9248 - val_loss: 0.3301 - val_accuracy: 0.7931\n",
            "Epoch 55/100\n",
            "5/4 [====================================] - 1s 279ms/step - loss: 0.1710 - accuracy: 0.9173 - val_loss: 0.4791 - val_accuracy: 0.7931\n",
            "Epoch 56/100\n",
            "5/4 [====================================] - 1s 278ms/step - loss: 0.1134 - accuracy: 0.9398 - val_loss: 0.2802 - val_accuracy: 0.7931\n",
            "Epoch 57/100\n",
            "5/4 [====================================] - 1s 286ms/step - loss: 0.2085 - accuracy: 0.9248 - val_loss: 0.2755 - val_accuracy: 0.8276\n",
            "Epoch 58/100\n",
            "5/4 [====================================] - 1s 282ms/step - loss: 0.1085 - accuracy: 0.9474 - val_loss: 0.2643 - val_accuracy: 0.8621\n",
            "Epoch 59/100\n",
            "5/4 [====================================] - 1s 280ms/step - loss: 0.2879 - accuracy: 0.9023 - val_loss: 0.3093 - val_accuracy: 0.7931\n",
            "Epoch 60/100\n",
            "5/4 [====================================] - 1s 277ms/step - loss: 0.0988 - accuracy: 0.9624 - val_loss: 0.2932 - val_accuracy: 0.8621\n",
            "Epoch 61/100\n",
            "5/4 [====================================] - 1s 279ms/step - loss: 0.2402 - accuracy: 0.9023 - val_loss: 0.3139 - val_accuracy: 0.8276\n",
            "Epoch 62/100\n",
            "5/4 [====================================] - 1s 280ms/step - loss: 0.1128 - accuracy: 0.9624 - val_loss: 0.3574 - val_accuracy: 0.7931\n",
            "Epoch 63/100\n",
            "5/4 [====================================] - 1s 272ms/step - loss: 0.1191 - accuracy: 0.9398 - val_loss: 0.5953 - val_accuracy: 0.7931\n",
            "Epoch 64/100\n",
            "5/4 [====================================] - 1s 284ms/step - loss: 0.2506 - accuracy: 0.9398 - val_loss: 0.5547 - val_accuracy: 0.7586\n",
            "Epoch 65/100\n",
            "5/4 [====================================] - 1s 287ms/step - loss: 0.3589 - accuracy: 0.8647 - val_loss: 0.9738 - val_accuracy: 0.7931\n",
            "Epoch 66/100\n",
            "5/4 [====================================] - 1s 276ms/step - loss: 0.2170 - accuracy: 0.9474 - val_loss: 0.3533 - val_accuracy: 0.7586\n",
            "Epoch 67/100\n",
            "5/4 [====================================] - 1s 274ms/step - loss: 0.1560 - accuracy: 0.9323 - val_loss: 0.9134 - val_accuracy: 0.7241\n",
            "Epoch 68/100\n",
            "5/4 [====================================] - 1s 281ms/step - loss: 0.1333 - accuracy: 0.9398 - val_loss: 0.3244 - val_accuracy: 0.8621\n",
            "Epoch 69/100\n",
            "5/4 [====================================] - 1s 283ms/step - loss: 0.2009 - accuracy: 0.9248 - val_loss: 0.4052 - val_accuracy: 0.8621\n",
            "Epoch 70/100\n",
            "5/4 [====================================] - 1s 290ms/step - loss: 0.0909 - accuracy: 0.9549 - val_loss: 0.4220 - val_accuracy: 0.8621\n",
            "Epoch 71/100\n",
            "5/4 [====================================] - 1s 281ms/step - loss: 0.0952 - accuracy: 0.9474 - val_loss: 0.3701 - val_accuracy: 0.8276\n",
            "Epoch 72/100\n",
            "5/4 [====================================] - 1s 279ms/step - loss: 0.1741 - accuracy: 0.9248 - val_loss: 0.4655 - val_accuracy: 0.8276\n",
            "Epoch 73/100\n",
            "5/4 [====================================] - 1s 273ms/step - loss: 0.0577 - accuracy: 0.9774 - val_loss: 0.3870 - val_accuracy: 0.7931\n",
            "Epoch 74/100\n",
            "5/4 [====================================] - 1s 277ms/step - loss: 0.0948 - accuracy: 0.9699 - val_loss: 0.4567 - val_accuracy: 0.8276\n",
            "Epoch 75/100\n",
            "5/4 [====================================] - 1s 283ms/step - loss: 0.1792 - accuracy: 0.9323 - val_loss: 0.7429 - val_accuracy: 0.7931\n",
            "Epoch 76/100\n",
            "5/4 [====================================] - 1s 278ms/step - loss: 0.0514 - accuracy: 0.9850 - val_loss: 0.5111 - val_accuracy: 0.7931\n",
            "Epoch 77/100\n",
            "5/4 [====================================] - 1s 277ms/step - loss: 0.1576 - accuracy: 0.9549 - val_loss: 0.8689 - val_accuracy: 0.8621\n",
            "Epoch 78/100\n",
            "5/4 [====================================] - 1s 273ms/step - loss: 0.0785 - accuracy: 0.9624 - val_loss: 1.0133 - val_accuracy: 0.8621\n",
            "Epoch 79/100\n",
            "5/4 [====================================] - 1s 281ms/step - loss: 0.1427 - accuracy: 0.9323 - val_loss: 0.7830 - val_accuracy: 0.7241\n",
            "Epoch 80/100\n",
            "5/4 [====================================] - 1s 279ms/step - loss: 0.2110 - accuracy: 0.9398 - val_loss: 1.0236 - val_accuracy: 0.7241\n",
            "Epoch 81/100\n",
            "5/4 [====================================] - 1s 273ms/step - loss: 0.0674 - accuracy: 0.9699 - val_loss: 0.9459 - val_accuracy: 0.7931\n",
            "Epoch 82/100\n",
            "5/4 [====================================] - 1s 276ms/step - loss: 0.1813 - accuracy: 0.9398 - val_loss: 0.4369 - val_accuracy: 0.7931\n",
            "Epoch 83/100\n",
            "5/4 [====================================] - 1s 282ms/step - loss: 0.1950 - accuracy: 0.9098 - val_loss: 1.4786 - val_accuracy: 0.6897\n",
            "Epoch 84/100\n",
            "5/4 [====================================] - 1s 288ms/step - loss: 0.2465 - accuracy: 0.9098 - val_loss: 0.5345 - val_accuracy: 0.8621\n",
            "Epoch 85/100\n",
            "5/4 [====================================] - 1s 281ms/step - loss: 0.1172 - accuracy: 0.9398 - val_loss: 0.5889 - val_accuracy: 0.8276\n",
            "Epoch 86/100\n",
            "5/4 [====================================] - 1s 277ms/step - loss: 0.2044 - accuracy: 0.9398 - val_loss: 0.8898 - val_accuracy: 0.7931\n",
            "Epoch 87/100\n",
            "5/4 [====================================] - 1s 274ms/step - loss: 0.1322 - accuracy: 0.9398 - val_loss: 2.7782 - val_accuracy: 0.5517\n",
            "Epoch 88/100\n",
            "5/4 [====================================] - 1s 279ms/step - loss: 0.0662 - accuracy: 0.9699 - val_loss: 1.0925 - val_accuracy: 0.7931\n",
            "Epoch 89/100\n",
            "5/4 [====================================] - 1s 274ms/step - loss: 0.0732 - accuracy: 0.9699 - val_loss: 0.7452 - val_accuracy: 0.7931\n",
            "Epoch 90/100\n",
            "5/4 [====================================] - 1s 272ms/step - loss: 0.0808 - accuracy: 0.9850 - val_loss: 2.3378 - val_accuracy: 0.5862\n",
            "Epoch 91/100\n",
            "5/4 [====================================] - 1s 281ms/step - loss: 0.0945 - accuracy: 0.9474 - val_loss: 3.2661 - val_accuracy: 0.5172\n",
            "Epoch 92/100\n",
            "5/4 [====================================] - 1s 287ms/step - loss: 0.1301 - accuracy: 0.9624 - val_loss: 2.8226 - val_accuracy: 0.5517\n",
            "Epoch 93/100\n",
            "5/4 [====================================] - 1s 283ms/step - loss: 0.1046 - accuracy: 0.9850 - val_loss: 2.3513 - val_accuracy: 0.5517\n",
            "Epoch 94/100\n",
            "5/4 [====================================] - 1s 277ms/step - loss: 0.0782 - accuracy: 0.9624 - val_loss: 2.6046 - val_accuracy: 0.5517\n",
            "Epoch 95/100\n",
            "5/4 [====================================] - 1s 285ms/step - loss: 0.1101 - accuracy: 0.9474 - val_loss: 1.1676 - val_accuracy: 0.7931\n",
            "Epoch 96/100\n",
            "5/4 [====================================] - 1s 289ms/step - loss: 0.0897 - accuracy: 0.9624 - val_loss: 0.5780 - val_accuracy: 0.7586\n",
            "Epoch 97/100\n",
            "5/4 [====================================] - 1s 292ms/step - loss: 0.0976 - accuracy: 0.9624 - val_loss: 1.4532 - val_accuracy: 0.7931\n",
            "Epoch 98/100\n",
            "5/4 [====================================] - 1s 283ms/step - loss: 0.0716 - accuracy: 0.9624 - val_loss: 2.1164 - val_accuracy: 0.7241\n",
            "Epoch 99/100\n",
            "5/4 [====================================] - 1s 277ms/step - loss: 0.0531 - accuracy: 0.9850 - val_loss: 1.3333 - val_accuracy: 0.7931\n",
            "Epoch 100/100\n",
            "5/4 [====================================] - 1s 275ms/step - loss: 0.1183 - accuracy: 0.9549 - val_loss: 0.6572 - val_accuracy: 0.7931\n"
          ],
          "name": "stdout"
        },
        {
          "output_type": "display_data",
          "data": {
            "text/html": [
              "<span style=\"color:#4527A0\"><h1 style=\"font-size:18px\">Trial complete</h1></span>"
            ],
            "text/plain": [
              "<IPython.core.display.HTML object>"
            ]
          },
          "metadata": {
            "tags": []
          }
        },
        {
          "output_type": "display_data",
          "data": {
            "text/html": [
              "<span style=\"color:#4527A0\"><h1 style=\"font-size:18px\">Trial summary</h1></span>"
            ],
            "text/plain": [
              "<IPython.core.display.HTML object>"
            ]
          },
          "metadata": {
            "tags": []
          }
        },
        {
          "output_type": "display_data",
          "data": {
            "text/html": [
              "<span style=\"color:cyan\"> |-Trial ID: dc4304a89fc968f4f333879ca27c194f</span>"
            ],
            "text/plain": [
              "<IPython.core.display.HTML object>"
            ]
          },
          "metadata": {
            "tags": []
          }
        },
        {
          "output_type": "display_data",
          "data": {
            "text/html": [
              "<span style=\"color:cyan\"> |-Score: 0.8965517282485962</span>"
            ],
            "text/plain": [
              "<IPython.core.display.HTML object>"
            ]
          },
          "metadata": {
            "tags": []
          }
        },
        {
          "output_type": "display_data",
          "data": {
            "text/html": [
              "<span style=\"color:cyan\"> |-Best step: 0</span>"
            ],
            "text/plain": [
              "<IPython.core.display.HTML object>"
            ]
          },
          "metadata": {
            "tags": []
          }
        },
        {
          "output_type": "display_data",
          "data": {
            "text/html": [
              "<span style=\"color:#7E57C2\"><h2 style=\"font-size:16px\">Hyperparameters:</h2></span>"
            ],
            "text/plain": [
              "<IPython.core.display.HTML object>"
            ]
          },
          "metadata": {
            "tags": []
          }
        },
        {
          "output_type": "display_data",
          "data": {
            "text/html": [
              "<span style=\"color:cyan\"> |-learning_rate: 0.0008380093243360302</span>"
            ],
            "text/plain": [
              "<IPython.core.display.HTML object>"
            ]
          },
          "metadata": {
            "tags": []
          }
        },
        {
          "output_type": "stream",
          "text": [
            "INFO:tensorflow:Oracle triggered exit\n"
          ],
          "name": "stdout"
        }
      ]
    },
    {
      "cell_type": "code",
      "metadata": {
        "id": "TB8a3THfH0dD",
        "colab_type": "code",
        "colab": {
          "base_uri": "https://localhost:8080/",
          "height": 275
        },
        "outputId": "e5a4a363-1eb9-4791-f8b6-271afcc459f7"
      },
      "source": [
        "for layer in tuner.get_best_models()[0].layers:\n",
        "  if 'MaxPool' in str(layer):\n",
        "    print('L:{}  S:{}'.format(str(layer), str(layer.output.shape)))\n",
        "    print(layer.get_config())"
      ],
      "execution_count": null,
      "outputs": [
        {
          "output_type": "stream",
          "text": [
            "L:<tensorflow.python.keras.layers.pooling.MaxPooling2D object at 0x7fe5c1d51b70>  S:(None, 112, 112, 64)\n",
            "{'name': 'block1_pool', 'trainable': False, 'dtype': 'float32', 'pool_size': (2, 2), 'padding': 'valid', 'strides': (2, 2), 'data_format': 'channels_last'}\n",
            "L:<tensorflow.python.keras.layers.pooling.MaxPooling2D object at 0x7fe5c80485f8>  S:(None, 56, 56, 128)\n",
            "{'name': 'block2_pool', 'trainable': False, 'dtype': 'float32', 'pool_size': (2, 2), 'padding': 'valid', 'strides': (2, 2), 'data_format': 'channels_last'}\n",
            "L:<tensorflow.python.keras.layers.pooling.MaxPooling2D object at 0x7fe5be77e470>  S:(None, 28, 28, 256)\n",
            "{'name': 'block3_pool', 'trainable': False, 'dtype': 'float32', 'pool_size': (2, 2), 'padding': 'valid', 'strides': (2, 2), 'data_format': 'channels_last'}\n",
            "L:<tensorflow.python.keras.layers.pooling.MaxPooling2D object at 0x7fe5c88f4cc0>  S:(None, 14, 14, 512)\n",
            "{'name': 'block4_pool', 'trainable': False, 'dtype': 'float32', 'pool_size': (2, 2), 'padding': 'valid', 'strides': (2, 2), 'data_format': 'channels_last'}\n",
            "L:<tensorflow.python.keras.layers.pooling.MaxPooling2D object at 0x7fe5e0127a58>  S:(None, 7, 7, 512)\n",
            "{'name': 'block5_pool', 'trainable': False, 'dtype': 'float32', 'pool_size': (2, 2), 'padding': 'valid', 'strides': (2, 2), 'data_format': 'channels_last'}\n",
            "L:<tensorflow.python.keras.layers.pooling.MaxPooling2D object at 0x7fe5c1d6d3c8>  S:(None, 6, 6, 256)\n",
            "{'name': 'max_pool0', 'trainable': True, 'dtype': 'float32', 'pool_size': (2, 2), 'padding': 'valid', 'strides': (1, 1), 'data_format': 'channels_last'}\n",
            "L:<tensorflow.python.keras.layers.pooling.MaxPooling2D object at 0x7fe5e01406d8>  S:(None, 5, 5, 256)\n",
            "{'name': 'max_pool1', 'trainable': True, 'dtype': 'float32', 'pool_size': (2, 2), 'padding': 'valid', 'strides': (1, 1), 'data_format': 'channels_last'}\n"
          ],
          "name": "stdout"
        }
      ]
    },
    {
      "cell_type": "code",
      "metadata": {
        "id": "gtMbDEgCbcqA",
        "colab_type": "code",
        "colab": {
          "base_uri": "https://localhost:8080/",
          "height": 34
        },
        "outputId": "855cd9ea-6c1c-4b01-9357-d95910a6b8ed"
      },
      "source": [
        "tuner.get_best_hyperparameters()[0].values"
      ],
      "execution_count": null,
      "outputs": [
        {
          "output_type": "execute_result",
          "data": {
            "text/plain": [
              "{'learning_rate': 0.0011060200588733464}"
            ]
          },
          "metadata": {
            "tags": []
          },
          "execution_count": 73
        }
      ]
    },
    {
      "cell_type": "code",
      "metadata": {
        "id": "EIub_Y02Tuug",
        "colab_type": "code",
        "colab": {
          "base_uri": "https://localhost:8080/",
          "height": 34
        },
        "outputId": "85f6b531-fb44-47db-8339-a88e8e684420"
      },
      "source": [
        "tuner.get_best_models(num_models=1)[0]\n",
        "# <tensorflow.python.keras.engine.training.Model at 0x7fe5c0fc0b00>"
      ],
      "execution_count": null,
      "outputs": [
        {
          "output_type": "execute_result",
          "data": {
            "text/plain": [
              "<tensorflow.python.keras.engine.training.Model at 0x7fe5c1f9b3c8>"
            ]
          },
          "metadata": {
            "tags": []
          },
          "execution_count": 91
        }
      ]
    },
    {
      "cell_type": "code",
      "metadata": {
        "id": "2n6Qt7a4WCHt",
        "colab_type": "code",
        "colab": {}
      },
      "source": [
        ""
      ],
      "execution_count": null,
      "outputs": []
    },
    {
      "cell_type": "code",
      "metadata": {
        "id": "HYeNwjJjbik2",
        "colab_type": "code",
        "colab": {
          "base_uri": "https://localhost:8080/",
          "height": 1000
        },
        "outputId": "c6b37bc8-aa79-4491-e47f-5e481d9c67da"
      },
      "source": [
        "tuner.get_best_models()[0].summary()"
      ],
      "execution_count": null,
      "outputs": [
        {
          "output_type": "stream",
          "text": [
            "WARNING:tensorflow:Unresolved object in checkpoint: (root).optimizer.iter\n",
            "WARNING:tensorflow:Unresolved object in checkpoint: (root).optimizer.beta_1\n",
            "WARNING:tensorflow:Unresolved object in checkpoint: (root).optimizer.beta_2\n",
            "WARNING:tensorflow:Unresolved object in checkpoint: (root).optimizer.decay\n",
            "WARNING:tensorflow:Unresolved object in checkpoint: (root).optimizer.learning_rate\n",
            "WARNING:tensorflow:A checkpoint was restored (e.g. tf.train.Checkpoint.restore or tf.keras.Model.load_weights) but not all checkpointed values were used. See above for specific issues. Use expect_partial() on the load status object, e.g. tf.train.Checkpoint.restore(...).expect_partial(), to silence these warnings, or use assert_consumed() to make the check explicit. See https://www.tensorflow.org/guide/checkpoint#loading_mechanics for details.\n",
            "Model: \"model\"\n",
            "_________________________________________________________________\n",
            "Layer (type)                 Output Shape              Param #   \n",
            "=================================================================\n",
            "input_1 (InputLayer)         [(None, 224, 224, 3)]     0         \n",
            "_________________________________________________________________\n",
            "block1_conv1 (Conv2D)        (None, 224, 224, 64)      1792      \n",
            "_________________________________________________________________\n",
            "block1_conv2 (Conv2D)        (None, 224, 224, 64)      36928     \n",
            "_________________________________________________________________\n",
            "block1_pool (MaxPooling2D)   (None, 112, 112, 64)      0         \n",
            "_________________________________________________________________\n",
            "block2_conv1 (Conv2D)        (None, 112, 112, 128)     73856     \n",
            "_________________________________________________________________\n",
            "block2_conv2 (Conv2D)        (None, 112, 112, 128)     147584    \n",
            "_________________________________________________________________\n",
            "block2_pool (MaxPooling2D)   (None, 56, 56, 128)       0         \n",
            "_________________________________________________________________\n",
            "block3_conv1 (Conv2D)        (None, 56, 56, 256)       295168    \n",
            "_________________________________________________________________\n",
            "block3_conv2 (Conv2D)        (None, 56, 56, 256)       590080    \n",
            "_________________________________________________________________\n",
            "block3_conv3 (Conv2D)        (None, 56, 56, 256)       590080    \n",
            "_________________________________________________________________\n",
            "block3_conv4 (Conv2D)        (None, 56, 56, 256)       590080    \n",
            "_________________________________________________________________\n",
            "block3_pool (MaxPooling2D)   (None, 28, 28, 256)       0         \n",
            "_________________________________________________________________\n",
            "block4_conv1 (Conv2D)        (None, 28, 28, 512)       1180160   \n",
            "_________________________________________________________________\n",
            "block4_conv2 (Conv2D)        (None, 28, 28, 512)       2359808   \n",
            "_________________________________________________________________\n",
            "block4_conv3 (Conv2D)        (None, 28, 28, 512)       2359808   \n",
            "_________________________________________________________________\n",
            "block4_conv4 (Conv2D)        (None, 28, 28, 512)       2359808   \n",
            "_________________________________________________________________\n",
            "block4_pool (MaxPooling2D)   (None, 14, 14, 512)       0         \n",
            "_________________________________________________________________\n",
            "block5_conv1 (Conv2D)        (None, 14, 14, 512)       2359808   \n",
            "_________________________________________________________________\n",
            "block5_conv2 (Conv2D)        (None, 14, 14, 512)       2359808   \n",
            "_________________________________________________________________\n",
            "block5_conv3 (Conv2D)        (None, 14, 14, 512)       2359808   \n",
            "_________________________________________________________________\n",
            "block5_conv4 (Conv2D)        (None, 14, 14, 512)       2359808   \n",
            "_________________________________________________________________\n",
            "block5_pool (MaxPooling2D)   (None, 7, 7, 512)         0         \n",
            "_________________________________________________________________\n",
            "conv0 (Conv2D)               (None, 7, 7, 256)         131328    \n",
            "_________________________________________________________________\n",
            "bn0 (BatchNormalization)     (None, 7, 7, 256)         1024      \n",
            "_________________________________________________________________\n",
            "activation (Activation)      (None, 7, 7, 256)         0         \n",
            "_________________________________________________________________\n",
            "max_pool0 (MaxPooling2D)     (None, 7, 7, 256)         0         \n",
            "_________________________________________________________________\n",
            "conv1 (Conv2D)               (None, 7, 7, 256)         65792     \n",
            "_________________________________________________________________\n",
            "bn1 (BatchNormalization)     (None, 7, 7, 256)         1024      \n",
            "_________________________________________________________________\n",
            "activation_1 (Activation)    (None, 7, 7, 256)         0         \n",
            "_________________________________________________________________\n",
            "dropout (Dropout)            (None, 7, 7, 256)         0         \n",
            "_________________________________________________________________\n",
            "conv2 (Conv2D)               (None, 7, 7, 256)         65792     \n",
            "_________________________________________________________________\n",
            "bn2 (BatchNormalization)     (None, 7, 7, 256)         1024      \n",
            "_________________________________________________________________\n",
            "activation_2 (Activation)    (None, 7, 7, 256)         0         \n",
            "_________________________________________________________________\n",
            "max_pool1 (MaxPooling2D)     (None, 7, 7, 256)         0         \n",
            "_________________________________________________________________\n",
            "flatten (Flatten)            (None, 12544)             0         \n",
            "_________________________________________________________________\n",
            "dropout_1 (Dropout)          (None, 12544)             0         \n",
            "_________________________________________________________________\n",
            "dense (Dense)                (None, 2)                 25090     \n",
            "=================================================================\n",
            "Total params: 20,315,458\n",
            "Trainable params: 289,538\n",
            "Non-trainable params: 20,025,920\n",
            "_________________________________________________________________\n"
          ],
          "name": "stdout"
        }
      ]
    },
    {
      "cell_type": "code",
      "metadata": {
        "id": "I7Eevr38iBW7",
        "colab_type": "code",
        "colab": {}
      },
      "source": [
        "modelBest = tuner.get_best_models(num_models=1)[0]"
      ],
      "execution_count": null,
      "outputs": []
    },
    {
      "cell_type": "code",
      "metadata": {
        "id": "eZJU1ZNRFcdo",
        "colab_type": "code",
        "colab": {
          "base_uri": "https://localhost:8080/",
          "height": 1000
        },
        "outputId": "4a916974-7970-41d7-cdba-3f49ed30b48d"
      },
      "source": [
        "for layer in modelBest.layers:\n",
        "  print('L:{}  S:{}'.format(str(layer), str(layer.output.shape)))\n",
        "  print(layer.output)"
      ],
      "execution_count": null,
      "outputs": [
        {
          "output_type": "stream",
          "text": [
            "L:<tensorflow.python.keras.engine.input_layer.InputLayer object at 0x7fe5c0389eb8>  S:(None, 224, 224, 3)\n",
            "Tensor(\"input_1:0\", shape=(None, 224, 224, 3), dtype=float32)\n",
            "L:<tensorflow.python.keras.layers.convolutional.Conv2D object at 0x7fe5c1124ba8>  S:(None, 224, 224, 64)\n",
            "Tensor(\"block1_conv1/Identity:0\", shape=(None, 224, 224, 64), dtype=float32)\n",
            "L:<tensorflow.python.keras.layers.convolutional.Conv2D object at 0x7fe5c031b550>  S:(None, 224, 224, 64)\n",
            "Tensor(\"block1_conv2/Identity:0\", shape=(None, 224, 224, 64), dtype=float32)\n",
            "L:<tensorflow.python.keras.layers.pooling.MaxPooling2D object at 0x7fe5c0425710>  S:(None, 112, 112, 64)\n",
            "Tensor(\"block1_pool/Identity:0\", shape=(None, 112, 112, 64), dtype=float32)\n",
            "L:<tensorflow.python.keras.layers.convolutional.Conv2D object at 0x7fe5c03f45c0>  S:(None, 112, 112, 128)\n",
            "Tensor(\"block2_conv1/Identity:0\", shape=(None, 112, 112, 128), dtype=float32)\n",
            "L:<tensorflow.python.keras.layers.convolutional.Conv2D object at 0x7fe5c03eea20>  S:(None, 112, 112, 128)\n",
            "Tensor(\"block2_conv2/Identity:0\", shape=(None, 112, 112, 128), dtype=float32)\n",
            "L:<tensorflow.python.keras.layers.pooling.MaxPooling2D object at 0x7fe5c03eecf8>  S:(None, 56, 56, 128)\n",
            "Tensor(\"block2_pool/Identity:0\", shape=(None, 56, 56, 128), dtype=float32)\n",
            "L:<tensorflow.python.keras.layers.convolutional.Conv2D object at 0x7fe5c03ec470>  S:(None, 56, 56, 256)\n",
            "Tensor(\"block3_conv1/Identity:0\", shape=(None, 56, 56, 256), dtype=float32)\n",
            "L:<tensorflow.python.keras.layers.convolutional.Conv2D object at 0x7fe5c03ea860>  S:(None, 56, 56, 256)\n",
            "Tensor(\"block3_conv2/Identity:0\", shape=(None, 56, 56, 256), dtype=float32)\n",
            "L:<tensorflow.python.keras.layers.convolutional.Conv2D object at 0x7fe5c03eab38>  S:(None, 56, 56, 256)\n",
            "Tensor(\"block3_conv3/Identity:0\", shape=(None, 56, 56, 256), dtype=float32)\n",
            "L:<tensorflow.python.keras.layers.convolutional.Conv2D object at 0x7fe5c03daf98>  S:(None, 56, 56, 256)\n",
            "Tensor(\"block3_conv4/Identity:0\", shape=(None, 56, 56, 256), dtype=float32)\n",
            "L:<tensorflow.python.keras.layers.pooling.MaxPooling2D object at 0x7fe5c02c4ef0>  S:(None, 28, 28, 256)\n",
            "Tensor(\"block3_pool/Identity:0\", shape=(None, 28, 28, 256), dtype=float32)\n",
            "L:<tensorflow.python.keras.layers.convolutional.Conv2D object at 0x7fe5c02c4c50>  S:(None, 28, 28, 512)\n",
            "Tensor(\"block4_conv1/Identity:0\", shape=(None, 28, 28, 512), dtype=float32)\n",
            "L:<tensorflow.python.keras.layers.convolutional.Conv2D object at 0x7fe5c02c8eb8>  S:(None, 28, 28, 512)\n",
            "Tensor(\"block4_conv2/Identity:0\", shape=(None, 28, 28, 512), dtype=float32)\n",
            "L:<tensorflow.python.keras.layers.convolutional.Conv2D object at 0x7fe5c02d1d30>  S:(None, 28, 28, 512)\n",
            "Tensor(\"block4_conv3/Identity:0\", shape=(None, 28, 28, 512), dtype=float32)\n",
            "L:<tensorflow.python.keras.layers.convolutional.Conv2D object at 0x7fe5c02d1cf8>  S:(None, 28, 28, 512)\n",
            "Tensor(\"block4_conv4/Identity:0\", shape=(None, 28, 28, 512), dtype=float32)\n",
            "L:<tensorflow.python.keras.layers.pooling.MaxPooling2D object at 0x7fe5c02d8cf8>  S:(None, 14, 14, 512)\n",
            "Tensor(\"block4_pool/Identity:0\", shape=(None, 14, 14, 512), dtype=float32)\n",
            "L:<tensorflow.python.keras.layers.convolutional.Conv2D object at 0x7fe5c02e1470>  S:(None, 14, 14, 512)\n",
            "Tensor(\"block5_conv1/Identity:0\", shape=(None, 14, 14, 512), dtype=float32)\n",
            "L:<tensorflow.python.keras.layers.convolutional.Conv2D object at 0x7fe5c02ea860>  S:(None, 14, 14, 512)\n",
            "Tensor(\"block5_conv2/Identity:0\", shape=(None, 14, 14, 512), dtype=float32)\n",
            "L:<tensorflow.python.keras.layers.convolutional.Conv2D object at 0x7fe5c02eab38>  S:(None, 14, 14, 512)\n",
            "Tensor(\"block5_conv3/Identity:0\", shape=(None, 14, 14, 512), dtype=float32)\n",
            "L:<tensorflow.python.keras.layers.convolutional.Conv2D object at 0x7fe5c02f1f98>  S:(None, 14, 14, 512)\n",
            "Tensor(\"block5_conv4/Identity:0\", shape=(None, 14, 14, 512), dtype=float32)\n",
            "L:<tensorflow.python.keras.layers.pooling.MaxPooling2D object at 0x7fe5c02f8ef0>  S:(None, 7, 7, 512)\n",
            "Tensor(\"block5_pool/Identity:0\", shape=(None, 7, 7, 512), dtype=float32)\n",
            "L:<tensorflow.python.keras.layers.convolutional.Conv2D object at 0x7fe5c02910f0>  S:(None, 7, 7, 256)\n",
            "Tensor(\"conv0/Identity:0\", shape=(None, 7, 7, 256), dtype=float32)\n",
            "L:<tensorflow.python.keras.layers.normalization_v2.BatchNormalization object at 0x7fe5c0291940>  S:(None, 7, 7, 256)\n",
            "Tensor(\"bn0/Identity:0\", shape=(None, 7, 7, 256), dtype=float32)\n",
            "L:<tensorflow.python.keras.layers.core.Activation object at 0x7fe5c0291908>  S:(None, 7, 7, 256)\n",
            "Tensor(\"activation/Identity:0\", shape=(None, 7, 7, 256), dtype=float32)\n",
            "L:<tensorflow.python.keras.layers.pooling.MaxPooling2D object at 0x7fe5c0291c88>  S:(None, 7, 7, 256)\n",
            "Tensor(\"max_pool0/Identity:0\", shape=(None, 7, 7, 256), dtype=float32)\n",
            "L:<tensorflow.python.keras.layers.convolutional.Conv2D object at 0x7fe5c0299438>  S:(None, 7, 7, 256)\n",
            "Tensor(\"conv1/Identity:0\", shape=(None, 7, 7, 256), dtype=float32)\n",
            "L:<tensorflow.python.keras.layers.normalization_v2.BatchNormalization object at 0x7fe5c02bad68>  S:(None, 7, 7, 256)\n",
            "Tensor(\"bn1/Identity:0\", shape=(None, 7, 7, 256), dtype=float32)\n",
            "L:<tensorflow.python.keras.layers.core.Activation object at 0x7fe5c024b048>  S:(None, 7, 7, 256)\n",
            "Tensor(\"activation_1/Identity:0\", shape=(None, 7, 7, 256), dtype=float32)\n",
            "L:<tensorflow.python.keras.layers.core.Dropout object at 0x7fe5c0243278>  S:(None, 7, 7, 256)\n",
            "Tensor(\"dropout/Identity:0\", shape=(None, 7, 7, 256), dtype=float32)\n",
            "L:<tensorflow.python.keras.layers.convolutional.Conv2D object at 0x7fe5c0243828>  S:(None, 7, 7, 256)\n",
            "Tensor(\"conv2/Identity:0\", shape=(None, 7, 7, 256), dtype=float32)\n",
            "L:<tensorflow.python.keras.layers.normalization_v2.BatchNormalization object at 0x7fe5c026e908>  S:(None, 7, 7, 256)\n",
            "Tensor(\"bn2/Identity:0\", shape=(None, 7, 7, 256), dtype=float32)\n",
            "L:<tensorflow.python.keras.layers.core.Activation object at 0x7fe5c01ffc50>  S:(None, 7, 7, 256)\n",
            "Tensor(\"activation_2/Identity:0\", shape=(None, 7, 7, 256), dtype=float32)\n",
            "L:<tensorflow.python.keras.layers.pooling.MaxPooling2D object at 0x7fe5c01ff5c0>  S:(None, 7, 7, 256)\n",
            "Tensor(\"max_pool1/Identity:0\", shape=(None, 7, 7, 256), dtype=float32)\n",
            "L:<tensorflow.python.keras.layers.core.Flatten object at 0x7fe5c020a198>  S:(None, 12544)\n",
            "Tensor(\"flatten/Identity:0\", shape=(None, 12544), dtype=float32)\n",
            "L:<tensorflow.python.keras.layers.core.Dropout object at 0x7fe5c022af60>  S:(None, 12544)\n",
            "Tensor(\"dropout_1/Identity:0\", shape=(None, 12544), dtype=float32)\n",
            "L:<tensorflow.python.keras.layers.core.Dense object at 0x7fe5c02319e8>  S:(None, 2)\n",
            "Tensor(\"dense/Identity:0\", shape=(None, 2), dtype=float32)\n"
          ],
          "name": "stdout"
        }
      ]
    },
    {
      "cell_type": "code",
      "metadata": {
        "id": "eLsoUBQ6iNK5",
        "colab_type": "code",
        "colab": {
          "base_uri": "https://localhost:8080/",
          "height": 1000
        },
        "outputId": "41bf4bf2-7f67-4c4d-f746-8efb0cb11297"
      },
      "source": [
        "\n",
        "history = modelBest.fit(train_aug.flow(X_train, y_train, batch_size=32),\n",
        "                    validation_data=(X_val, y_val),\n",
        "                    validation_steps=len(X_val) / 32,\n",
        "                    steps_per_epoch=len(X_val) / 32,\n",
        "                    epochs=200)\n",
        "\n"
      ],
      "execution_count": null,
      "outputs": [
        {
          "output_type": "stream",
          "text": [
            "WARNING:tensorflow:sample_weight modes were coerced from\n",
            "  ...\n",
            "    to  \n",
            "  ['...']\n",
            "Train for 0.90625 steps, validate on 29 samples\n",
            "Epoch 1/200\n",
            "1/0 [=================================] - 1s 1s/step - loss: 0.5678 - accuracy: 0.8750 - val_loss: 0.7858 - val_accuracy: 0.8621\n",
            "Epoch 2/200\n",
            "1/0 [=================================] - 1s 701ms/step - loss: 0.6530 - accuracy: 0.8750 - val_loss: 0.6547 - val_accuracy: 0.8276\n",
            "Epoch 3/200\n",
            "1/0 [=================================] - 1s 597ms/step - loss: 0.3339 - accuracy: 0.9062 - val_loss: 0.5976 - val_accuracy: 0.8276\n",
            "Epoch 4/200\n",
            "1/0 [=================================] - 1s 607ms/step - loss: 0.1895 - accuracy: 0.9375 - val_loss: 0.5905 - val_accuracy: 0.8276\n",
            "Epoch 5/200\n",
            "1/0 [=================================] - 0s 322ms/step - loss: 2.4711 - accuracy: 0.6000 - val_loss: 0.6754 - val_accuracy: 0.7931\n",
            "Epoch 6/200\n",
            "1/0 [=================================] - 0s 354ms/step - loss: 1.2145e-04 - accuracy: 1.0000 - val_loss: 0.8200 - val_accuracy: 0.8276\n",
            "Epoch 7/200\n",
            "1/0 [=================================] - 1s 632ms/step - loss: 2.1324 - accuracy: 0.7188 - val_loss: 0.9612 - val_accuracy: 0.7931\n",
            "Epoch 8/200\n",
            "1/0 [=================================] - 1s 622ms/step - loss: 0.0656 - accuracy: 0.9688 - val_loss: 1.0993 - val_accuracy: 0.7586\n",
            "Epoch 9/200\n",
            "1/0 [=================================] - 1s 573ms/step - loss: 3.2192 - accuracy: 0.6562 - val_loss: 1.1879 - val_accuracy: 0.8276\n",
            "Epoch 10/200\n",
            "1/0 [=================================] - 1s 572ms/step - loss: 0.5105 - accuracy: 0.8750 - val_loss: 1.2711 - val_accuracy: 0.8276\n",
            "Epoch 11/200\n",
            "1/0 [=================================] - 1s 642ms/step - loss: 0.3080 - accuracy: 0.9062 - val_loss: 1.4279 - val_accuracy: 0.7586\n",
            "Epoch 12/200\n",
            "1/0 [=================================] - 1s 596ms/step - loss: 0.0067 - accuracy: 1.0000 - val_loss: 1.6294 - val_accuracy: 0.7241\n",
            "Epoch 13/200\n",
            "1/0 [=================================] - 0s 277ms/step - loss: 3.1920 - accuracy: 0.4000 - val_loss: 1.4791 - val_accuracy: 0.7586\n",
            "Epoch 14/200\n",
            "1/0 [=================================] - 1s 615ms/step - loss: 1.2966 - accuracy: 0.8125 - val_loss: 1.3643 - val_accuracy: 0.7931\n",
            "Epoch 15/200\n",
            "1/0 [=================================] - 0s 328ms/step - loss: 1.8197 - accuracy: 0.6000 - val_loss: 0.9276 - val_accuracy: 0.7586\n",
            "Epoch 16/200\n",
            "1/0 [=================================] - 1s 642ms/step - loss: 0.4151 - accuracy: 0.9062 - val_loss: 1.0693 - val_accuracy: 0.7586\n",
            "Epoch 17/200\n",
            "1/0 [=================================] - 0s 289ms/step - loss: 1.3467 - accuracy: 0.8000 - val_loss: 1.3038 - val_accuracy: 0.7931\n",
            "Epoch 18/200\n",
            "1/0 [=================================] - 0s 333ms/step - loss: 0.0021 - accuracy: 1.0000 - val_loss: 1.5737 - val_accuracy: 0.7586\n",
            "Epoch 19/200\n",
            "1/0 [=================================] - 0s 363ms/step - loss: 1.4900e-04 - accuracy: 1.0000 - val_loss: 1.8678 - val_accuracy: 0.7586\n",
            "Epoch 20/200\n",
            "1/0 [=================================] - 1s 623ms/step - loss: 8.8857 - accuracy: 0.4688 - val_loss: 2.0597 - val_accuracy: 0.7241\n",
            "Epoch 21/200\n",
            "1/0 [=================================] - 1s 633ms/step - loss: 2.9646 - accuracy: 0.6250 - val_loss: 2.2155 - val_accuracy: 0.7241\n",
            "Epoch 22/200\n",
            "1/0 [=================================] - 1s 611ms/step - loss: 1.0746 - accuracy: 0.8438 - val_loss: 2.6833 - val_accuracy: 0.7586\n",
            "Epoch 23/200\n",
            "1/0 [=================================] - 0s 290ms/step - loss: 3.2592e-04 - accuracy: 1.0000 - val_loss: 3.3193 - val_accuracy: 0.7931\n",
            "Epoch 24/200\n",
            "1/0 [=================================] - 1s 619ms/step - loss: 0.8206 - accuracy: 0.8750 - val_loss: 3.7215 - val_accuracy: 0.7586\n",
            "Epoch 25/200\n",
            "1/0 [=================================] - 1s 578ms/step - loss: 1.8770 - accuracy: 0.7500 - val_loss: 4.0291 - val_accuracy: 0.7241\n",
            "Epoch 26/200\n",
            "1/0 [=================================] - 0s 313ms/step - loss: 2.3856 - accuracy: 0.6000 - val_loss: 5.0109 - val_accuracy: 0.7241\n",
            "Epoch 27/200\n",
            "1/0 [=================================] - 1s 656ms/step - loss: 0.6785 - accuracy: 0.8750 - val_loss: 5.7433 - val_accuracy: 0.7241\n",
            "Epoch 28/200\n",
            "1/0 [=================================] - 1s 580ms/step - loss: 0.8914 - accuracy: 0.8438 - val_loss: 5.7468 - val_accuracy: 0.7241\n",
            "Epoch 29/200\n",
            "1/0 [=================================] - 0s 324ms/step - loss: 3.2268 - accuracy: 0.6000 - val_loss: 4.4496 - val_accuracy: 0.7241\n",
            "Epoch 30/200\n",
            "1/0 [=================================] - 1s 648ms/step - loss: 0.4872 - accuracy: 0.8438 - val_loss: 3.2036 - val_accuracy: 0.7586\n",
            "Epoch 31/200\n",
            "1/0 [=================================] - 1s 567ms/step - loss: 1.0376 - accuracy: 0.8125 - val_loss: 2.3286 - val_accuracy: 0.7586\n",
            "Epoch 32/200\n",
            "1/0 [=================================] - 1s 581ms/step - loss: 1.7957 - accuracy: 0.7188 - val_loss: 2.2275 - val_accuracy: 0.8276\n",
            "Epoch 33/200\n",
            "1/0 [=================================] - 1s 610ms/step - loss: 1.7380 - accuracy: 0.7812 - val_loss: 2.2896 - val_accuracy: 0.8276\n",
            "Epoch 34/200\n",
            "1/0 [=================================] - 1s 565ms/step - loss: 0.8012 - accuracy: 0.8125 - val_loss: 2.3738 - val_accuracy: 0.7931\n",
            "Epoch 35/200\n",
            "1/0 [=================================] - 0s 294ms/step - loss: 0.0044 - accuracy: 1.0000 - val_loss: 2.5156 - val_accuracy: 0.7241\n",
            "Epoch 36/200\n",
            "1/0 [=================================] - 1s 638ms/step - loss: 0.7690 - accuracy: 0.9062 - val_loss: 2.8104 - val_accuracy: 0.7241\n",
            "Epoch 37/200\n",
            "1/0 [=================================] - 1s 560ms/step - loss: 0.1594 - accuracy: 0.9062 - val_loss: 2.9516 - val_accuracy: 0.7241\n",
            "Epoch 38/200\n",
            "1/0 [=================================] - 1s 583ms/step - loss: 0.4981 - accuracy: 0.8750 - val_loss: 2.9205 - val_accuracy: 0.7241\n",
            "Epoch 39/200\n",
            "1/0 [=================================] - 1s 622ms/step - loss: 0.4688 - accuracy: 0.9062 - val_loss: 2.8526 - val_accuracy: 0.7586\n",
            "Epoch 40/200\n",
            "1/0 [=================================] - 1s 605ms/step - loss: 0.3524 - accuracy: 0.8750 - val_loss: 2.5977 - val_accuracy: 0.7586\n",
            "Epoch 41/200\n",
            "1/0 [=================================] - 1s 621ms/step - loss: 1.6819 - accuracy: 0.7500 - val_loss: 1.9637 - val_accuracy: 0.7931\n",
            "Epoch 42/200\n",
            "1/0 [=================================] - 1s 607ms/step - loss: 0.4910 - accuracy: 0.8750 - val_loss: 1.7479 - val_accuracy: 0.7586\n",
            "Epoch 43/200\n",
            "1/0 [=================================] - 1s 575ms/step - loss: 1.1643 - accuracy: 0.8750 - val_loss: 1.7370 - val_accuracy: 0.7586\n",
            "Epoch 44/200\n",
            "1/0 [=================================] - 1s 592ms/step - loss: 0.1020 - accuracy: 0.9688 - val_loss: 1.7191 - val_accuracy: 0.7931\n",
            "Epoch 45/200\n",
            "1/0 [=================================] - 1s 634ms/step - loss: 0.2007 - accuracy: 0.9062 - val_loss: 1.6703 - val_accuracy: 0.7931\n",
            "Epoch 46/200\n",
            "1/0 [=================================] - 1s 586ms/step - loss: 0.5717 - accuracy: 0.8125 - val_loss: 1.6911 - val_accuracy: 0.7931\n",
            "Epoch 47/200\n",
            "1/0 [=================================] - 0s 357ms/step - loss: 0.1304 - accuracy: 1.0000 - val_loss: 1.7826 - val_accuracy: 0.8276\n",
            "Epoch 48/200\n",
            "1/0 [=================================] - 1s 635ms/step - loss: 0.7210 - accuracy: 0.8125 - val_loss: 1.7539 - val_accuracy: 0.8276\n",
            "Epoch 49/200\n",
            "1/0 [=================================] - 0s 353ms/step - loss: 1.5045 - accuracy: 0.8000 - val_loss: 1.6459 - val_accuracy: 0.7586\n",
            "Epoch 50/200\n",
            "1/0 [=================================] - 1s 632ms/step - loss: 0.4709 - accuracy: 0.9375 - val_loss: 1.8699 - val_accuracy: 0.8276\n",
            "Epoch 51/200\n",
            "1/0 [=================================] - 1s 589ms/step - loss: 0.7443 - accuracy: 0.7812 - val_loss: 1.9552 - val_accuracy: 0.8276\n",
            "Epoch 52/200\n",
            "1/0 [=================================] - 1s 578ms/step - loss: 0.5184 - accuracy: 0.9062 - val_loss: 2.1064 - val_accuracy: 0.8276\n",
            "Epoch 53/200\n",
            "1/0 [=================================] - 1s 563ms/step - loss: 0.4804 - accuracy: 0.9062 - val_loss: 2.2226 - val_accuracy: 0.7931\n",
            "Epoch 54/200\n",
            "1/0 [=================================] - 1s 595ms/step - loss: 0.0963 - accuracy: 0.9375 - val_loss: 2.2445 - val_accuracy: 0.7931\n",
            "Epoch 55/200\n",
            "1/0 [=================================] - 1s 625ms/step - loss: 0.3526 - accuracy: 0.9062 - val_loss: 2.3028 - val_accuracy: 0.7931\n",
            "Epoch 56/200\n",
            "1/0 [=================================] - 1s 590ms/step - loss: 0.6457 - accuracy: 0.8438 - val_loss: 2.2090 - val_accuracy: 0.7586\n",
            "Epoch 57/200\n",
            "1/0 [=================================] - 0s 282ms/step - loss: 0.0156 - accuracy: 1.0000 - val_loss: 2.1864 - val_accuracy: 0.7586\n",
            "Epoch 58/200\n",
            "1/0 [=================================] - 0s 348ms/step - loss: 0.0026 - accuracy: 1.0000 - val_loss: 2.2182 - val_accuracy: 0.7586\n",
            "Epoch 59/200\n",
            "1/0 [=================================] - 1s 634ms/step - loss: 0.3964 - accuracy: 0.9688 - val_loss: 2.2355 - val_accuracy: 0.7586\n",
            "Epoch 60/200\n",
            "1/0 [=================================] - 1s 583ms/step - loss: 0.6415 - accuracy: 0.9062 - val_loss: 2.2171 - val_accuracy: 0.7586\n",
            "Epoch 61/200\n",
            "1/0 [=================================] - 0s 363ms/step - loss: 3.3140e-06 - accuracy: 1.0000 - val_loss: 2.2076 - val_accuracy: 0.7586\n",
            "Epoch 62/200\n",
            "1/0 [=================================] - 1s 652ms/step - loss: 0.0568 - accuracy: 1.0000 - val_loss: 2.1956 - val_accuracy: 0.7586\n",
            "Epoch 63/200\n",
            "1/0 [=================================] - 1s 623ms/step - loss: 0.8427 - accuracy: 0.9062 - val_loss: 2.1779 - val_accuracy: 0.7931\n",
            "Epoch 64/200\n",
            "1/0 [=================================] - 1s 630ms/step - loss: 0.8183 - accuracy: 0.9062 - val_loss: 2.1532 - val_accuracy: 0.7931\n",
            "Epoch 65/200\n",
            "1/0 [=================================] - 1s 594ms/step - loss: 1.1575 - accuracy: 0.8125 - val_loss: 2.0023 - val_accuracy: 0.7586\n",
            "Epoch 66/200\n",
            "1/0 [=================================] - 0s 329ms/step - loss: 0.0900 - accuracy: 1.0000 - val_loss: 1.8906 - val_accuracy: 0.7586\n",
            "Epoch 67/200\n",
            "1/0 [=================================] - 1s 632ms/step - loss: 0.2801 - accuracy: 0.8750 - val_loss: 1.7751 - val_accuracy: 0.7586\n",
            "Epoch 68/200\n",
            "1/0 [=================================] - 1s 640ms/step - loss: 0.3747 - accuracy: 0.8750 - val_loss: 1.7037 - val_accuracy: 0.7586\n",
            "Epoch 69/200\n",
            "1/0 [=================================] - 1s 579ms/step - loss: 0.1091 - accuracy: 0.9375 - val_loss: 1.6222 - val_accuracy: 0.7931\n",
            "Epoch 70/200\n",
            "1/0 [=================================] - 0s 291ms/step - loss: 0.9059 - accuracy: 0.8000 - val_loss: 1.5383 - val_accuracy: 0.7931\n",
            "Epoch 71/200\n",
            "1/0 [=================================] - 1s 656ms/step - loss: 0.2492 - accuracy: 0.9062 - val_loss: 1.3972 - val_accuracy: 0.7931\n",
            "Epoch 72/200\n",
            "1/0 [=================================] - 1s 574ms/step - loss: 0.5764 - accuracy: 0.8438 - val_loss: 1.1991 - val_accuracy: 0.8276\n",
            "Epoch 73/200\n",
            "1/0 [=================================] - 1s 566ms/step - loss: 0.2830 - accuracy: 0.9062 - val_loss: 1.3288 - val_accuracy: 0.8276\n",
            "Epoch 74/200\n",
            "1/0 [=================================] - 1s 585ms/step - loss: 0.4956 - accuracy: 0.9062 - val_loss: 1.6379 - val_accuracy: 0.8276\n",
            "Epoch 75/200\n",
            "1/0 [=================================] - 1s 561ms/step - loss: 0.6170 - accuracy: 0.9062 - val_loss: 2.1325 - val_accuracy: 0.7586\n",
            "Epoch 76/200\n",
            "1/0 [=================================] - 1s 644ms/step - loss: 0.0705 - accuracy: 0.9688 - val_loss: 2.6412 - val_accuracy: 0.7241\n",
            "Epoch 77/200\n",
            "1/0 [=================================] - 1s 640ms/step - loss: 0.0667 - accuracy: 0.9688 - val_loss: 3.1214 - val_accuracy: 0.6897\n",
            "Epoch 78/200\n",
            "1/0 [=================================] - 0s 356ms/step - loss: 1.9928e-04 - accuracy: 1.0000 - val_loss: 3.5934 - val_accuracy: 0.6552\n",
            "Epoch 79/200\n",
            "1/0 [=================================] - 1s 622ms/step - loss: 0.3162 - accuracy: 0.9688 - val_loss: 3.7203 - val_accuracy: 0.6552\n",
            "Epoch 80/200\n",
            "1/0 [=================================] - 0s 332ms/step - loss: 0.0117 - accuracy: 1.0000 - val_loss: 3.8021 - val_accuracy: 0.6552\n",
            "Epoch 81/200\n",
            "1/0 [=================================] - 1s 652ms/step - loss: 0.8142 - accuracy: 0.8438 - val_loss: 3.3752 - val_accuracy: 0.6552\n",
            "Epoch 82/200\n",
            "1/0 [=================================] - 1s 605ms/step - loss: 0.4942 - accuracy: 0.8750 - val_loss: 2.6866 - val_accuracy: 0.6897\n",
            "Epoch 83/200\n",
            "1/0 [=================================] - 0s 298ms/step - loss: 0.4360 - accuracy: 0.8000 - val_loss: 1.4208 - val_accuracy: 0.7931\n",
            "Epoch 84/200\n",
            "1/0 [=================================] - 1s 635ms/step - loss: 0.8091 - accuracy: 0.9062 - val_loss: 1.0668 - val_accuracy: 0.7586\n",
            "Epoch 85/200\n",
            "1/0 [=================================] - 0s 271ms/step - loss: 0.0016 - accuracy: 1.0000 - val_loss: 1.3256 - val_accuracy: 0.8276\n",
            "Epoch 86/200\n",
            "1/0 [=================================] - 0s 346ms/step - loss: 8.6783e-06 - accuracy: 1.0000 - val_loss: 2.0064 - val_accuracy: 0.7931\n",
            "Epoch 87/200\n",
            "1/0 [=================================] - 1s 637ms/step - loss: 1.8068 - accuracy: 0.7812 - val_loss: 2.0094 - val_accuracy: 0.7931\n",
            "Epoch 88/200\n",
            "1/0 [=================================] - 1s 595ms/step - loss: 2.7431 - accuracy: 0.6875 - val_loss: 1.4030 - val_accuracy: 0.7586\n",
            "Epoch 89/200\n",
            "1/0 [=================================] - 1s 604ms/step - loss: 0.5639 - accuracy: 0.8750 - val_loss: 1.5050 - val_accuracy: 0.7586\n",
            "Epoch 90/200\n",
            "1/0 [=================================] - 1s 616ms/step - loss: 0.2589 - accuracy: 0.9375 - val_loss: 1.9958 - val_accuracy: 0.7586\n",
            "Epoch 91/200\n",
            "1/0 [=================================] - 0s 343ms/step - loss: 0.5692 - accuracy: 0.8000 - val_loss: 2.7052 - val_accuracy: 0.7241\n",
            "Epoch 92/200\n",
            "1/0 [=================================] - 1s 625ms/step - loss: 0.5987 - accuracy: 0.8750 - val_loss: 3.7914 - val_accuracy: 0.6897\n",
            "Epoch 93/200\n",
            "1/0 [=================================] - 1s 588ms/step - loss: 1.2380 - accuracy: 0.7812 - val_loss: 4.5457 - val_accuracy: 0.6207\n",
            "Epoch 94/200\n",
            "1/0 [=================================] - 1s 582ms/step - loss: 0.4899 - accuracy: 0.8750 - val_loss: 4.9765 - val_accuracy: 0.6207\n",
            "Epoch 95/200\n",
            "1/0 [=================================] - 1s 607ms/step - loss: 0.7535 - accuracy: 0.8125 - val_loss: 4.9147 - val_accuracy: 0.6552\n",
            "Epoch 96/200\n",
            "1/0 [=================================] - 1s 571ms/step - loss: 1.4688 - accuracy: 0.8125 - val_loss: 4.3922 - val_accuracy: 0.6552\n",
            "Epoch 97/200\n",
            "1/0 [=================================] - 1s 598ms/step - loss: 0.5951 - accuracy: 0.8750 - val_loss: 3.5509 - val_accuracy: 0.7241\n",
            "Epoch 98/200\n",
            "1/0 [=================================] - 1s 603ms/step - loss: 1.0474 - accuracy: 0.8750 - val_loss: 2.6981 - val_accuracy: 0.7241\n",
            "Epoch 99/200\n",
            "1/0 [=================================] - 1s 605ms/step - loss: 0.1071 - accuracy: 0.9375 - val_loss: 2.0724 - val_accuracy: 0.7931\n",
            "Epoch 100/200\n",
            "1/0 [=================================] - 1s 576ms/step - loss: 0.3025 - accuracy: 0.8750 - val_loss: 1.7695 - val_accuracy: 0.7586\n",
            "Epoch 101/200\n",
            "1/0 [=================================] - 1s 639ms/step - loss: 0.2583 - accuracy: 0.8750 - val_loss: 1.7047 - val_accuracy: 0.7586\n",
            "Epoch 102/200\n",
            "1/0 [=================================] - 1s 571ms/step - loss: 0.5698 - accuracy: 0.8438 - val_loss: 1.6739 - val_accuracy: 0.7586\n",
            "Epoch 103/200\n",
            "1/0 [=================================] - 1s 593ms/step - loss: 0.0633 - accuracy: 0.9688 - val_loss: 1.7339 - val_accuracy: 0.7241\n",
            "Epoch 104/200\n",
            "1/0 [=================================] - 1s 574ms/step - loss: 0.0323 - accuracy: 0.9688 - val_loss: 1.7873 - val_accuracy: 0.7241\n",
            "Epoch 105/200\n",
            "1/0 [=================================] - 1s 609ms/step - loss: 2.0950 - accuracy: 0.7188 - val_loss: 1.5087 - val_accuracy: 0.7586\n",
            "Epoch 106/200\n",
            "1/0 [=================================] - 1s 646ms/step - loss: 0.5926 - accuracy: 0.9062 - val_loss: 1.3908 - val_accuracy: 0.7931\n",
            "Epoch 107/200\n",
            "1/0 [=================================] - 1s 591ms/step - loss: 1.2917 - accuracy: 0.7188 - val_loss: 1.3997 - val_accuracy: 0.7586\n",
            "Epoch 108/200\n",
            "1/0 [=================================] - 1s 583ms/step - loss: 0.5291 - accuracy: 0.8125 - val_loss: 1.4860 - val_accuracy: 0.7931\n",
            "Epoch 109/200\n",
            "1/0 [=================================] - 0s 346ms/step - loss: 0.6752 - accuracy: 0.8000 - val_loss: 2.4876 - val_accuracy: 0.7586\n",
            "Epoch 110/200\n",
            "1/0 [=================================] - 0s 360ms/step - loss: 3.0994e-07 - accuracy: 1.0000 - val_loss: 4.0534 - val_accuracy: 0.6207\n",
            "Epoch 111/200\n",
            "1/0 [=================================] - 1s 625ms/step - loss: 0.5113 - accuracy: 0.9062 - val_loss: 4.6859 - val_accuracy: 0.5862\n",
            "Epoch 112/200\n",
            "1/0 [=================================] - 0s 322ms/step - loss: 9.1498e-04 - accuracy: 1.0000 - val_loss: 5.2986 - val_accuracy: 0.5862\n",
            "Epoch 113/200\n",
            "1/0 [=================================] - 1s 632ms/step - loss: 3.8056 - accuracy: 0.5938 - val_loss: 3.7614 - val_accuracy: 0.6552\n",
            "Epoch 114/200\n",
            "1/0 [=================================] - 1s 599ms/step - loss: 3.3826 - accuracy: 0.5625 - val_loss: 2.1704 - val_accuracy: 0.7931\n",
            "Epoch 115/200\n",
            "1/0 [=================================] - 1s 621ms/step - loss: 1.4597 - accuracy: 0.7188 - val_loss: 2.6674 - val_accuracy: 0.7931\n",
            "Epoch 116/200\n",
            "1/0 [=================================] - 1s 664ms/step - loss: 1.4385 - accuracy: 0.8750 - val_loss: 4.3697 - val_accuracy: 0.6897\n",
            "Epoch 117/200\n",
            "1/0 [=================================] - 1s 573ms/step - loss: 0.5985 - accuracy: 0.9062 - val_loss: 6.5412 - val_accuracy: 0.6897\n",
            "Epoch 118/200\n",
            "1/0 [=================================] - 1s 649ms/step - loss: 0.0862 - accuracy: 0.9375 - val_loss: 8.3255 - val_accuracy: 0.5862\n",
            "Epoch 119/200\n",
            "1/0 [=================================] - 1s 605ms/step - loss: 1.0301 - accuracy: 0.8750 - val_loss: 9.6222 - val_accuracy: 0.5517\n",
            "Epoch 120/200\n",
            "1/0 [=================================] - 1s 657ms/step - loss: 0.6463 - accuracy: 0.8750 - val_loss: 10.1080 - val_accuracy: 0.5517\n",
            "Epoch 121/200\n",
            "1/0 [=================================] - 1s 642ms/step - loss: 1.1732 - accuracy: 0.8125 - val_loss: 9.7521 - val_accuracy: 0.5862\n",
            "Epoch 122/200\n",
            "1/0 [=================================] - 0s 336ms/step - loss: 3.3865 - accuracy: 0.8000 - val_loss: 9.0365 - val_accuracy: 0.5862\n",
            "Epoch 123/200\n",
            "1/0 [=================================] - 0s 350ms/step - loss: 2.3712 - accuracy: 0.6000 - val_loss: 7.7838 - val_accuracy: 0.6897\n",
            "Epoch 124/200\n",
            "1/0 [=================================] - 0s 358ms/step - loss: 6.5803e-06 - accuracy: 1.0000 - val_loss: 6.7979 - val_accuracy: 0.7241\n",
            "Epoch 125/200\n",
            "1/0 [=================================] - 1s 655ms/step - loss: 0.8782 - accuracy: 0.8438 - val_loss: 5.5907 - val_accuracy: 0.8276\n",
            "Epoch 126/200\n",
            "1/0 [=================================] - 1s 632ms/step - loss: 5.1744e-05 - accuracy: 1.0000 - val_loss: 4.7270 - val_accuracy: 0.7931\n",
            "Epoch 127/200\n",
            "1/0 [=================================] - 1s 604ms/step - loss: 0.6722 - accuracy: 0.8438 - val_loss: 4.1686 - val_accuracy: 0.7586\n",
            "Epoch 128/200\n",
            "1/0 [=================================] - 1s 600ms/step - loss: 0.3459 - accuracy: 0.9375 - val_loss: 4.0280 - val_accuracy: 0.7931\n",
            "Epoch 129/200\n",
            "1/0 [=================================] - 1s 631ms/step - loss: 0.9382 - accuracy: 0.8438 - val_loss: 4.1382 - val_accuracy: 0.7586\n",
            "Epoch 130/200\n",
            "1/0 [=================================] - 1s 623ms/step - loss: 0.9526 - accuracy: 0.8438 - val_loss: 4.7712 - val_accuracy: 0.8276\n",
            "Epoch 131/200\n",
            "1/0 [=================================] - 1s 607ms/step - loss: 0.7876 - accuracy: 0.9375 - val_loss: 4.9985 - val_accuracy: 0.8276\n",
            "Epoch 132/200\n",
            "1/0 [=================================] - 1s 621ms/step - loss: 1.7020 - accuracy: 0.8125 - val_loss: 5.7886 - val_accuracy: 0.7931\n",
            "Epoch 133/200\n",
            "1/0 [=================================] - 1s 597ms/step - loss: 3.9497 - accuracy: 0.6250 - val_loss: 6.1953 - val_accuracy: 0.7931\n",
            "Epoch 134/200\n",
            "1/0 [=================================] - 1s 618ms/step - loss: 0.1902 - accuracy: 0.9688 - val_loss: 6.2837 - val_accuracy: 0.7931\n",
            "Epoch 135/200\n",
            "1/0 [=================================] - 1s 591ms/step - loss: 2.3855 - accuracy: 0.7500 - val_loss: 4.9109 - val_accuracy: 0.8276\n",
            "Epoch 136/200\n",
            "1/0 [=================================] - 1s 592ms/step - loss: 0.0590 - accuracy: 0.9375 - val_loss: 4.1482 - val_accuracy: 0.7931\n",
            "Epoch 137/200\n",
            "1/0 [=================================] - 1s 607ms/step - loss: 0.6849 - accuracy: 0.8750 - val_loss: 3.6297 - val_accuracy: 0.7586\n",
            "Epoch 138/200\n",
            "1/0 [=================================] - 0s 350ms/step - loss: 2.5503 - accuracy: 0.6000 - val_loss: 3.6539 - val_accuracy: 0.7931\n",
            "Epoch 139/200\n",
            "1/0 [=================================] - 1s 630ms/step - loss: 0.1162 - accuracy: 0.9375 - val_loss: 3.7992 - val_accuracy: 0.7931\n",
            "Epoch 140/200\n",
            "1/0 [=================================] - 0s 295ms/step - loss: 2.3947 - accuracy: 0.6000 - val_loss: 4.0019 - val_accuracy: 0.7931\n",
            "Epoch 141/200\n",
            "1/0 [=================================] - 1s 631ms/step - loss: 1.4142 - accuracy: 0.7812 - val_loss: 4.0428 - val_accuracy: 0.8276\n",
            "Epoch 142/200\n",
            "1/0 [=================================] - 1s 611ms/step - loss: 0.4636 - accuracy: 0.8750 - val_loss: 3.9149 - val_accuracy: 0.7931\n",
            "Epoch 143/200\n",
            "1/0 [=================================] - 1s 642ms/step - loss: 0.7685 - accuracy: 0.9375 - val_loss: 3.7383 - val_accuracy: 0.7931\n",
            "Epoch 144/200\n",
            "1/0 [=================================] - 0s 299ms/step - loss: 9.5842e-06 - accuracy: 1.0000 - val_loss: 3.5753 - val_accuracy: 0.7931\n",
            "Epoch 145/200\n",
            "1/0 [=================================] - 1s 664ms/step - loss: 1.3539 - accuracy: 0.7500 - val_loss: 3.2955 - val_accuracy: 0.7931\n",
            "Epoch 146/200\n",
            "1/0 [=================================] - 1s 613ms/step - loss: 0.0041 - accuracy: 1.0000 - val_loss: 3.0675 - val_accuracy: 0.8276\n",
            "Epoch 147/200\n",
            "1/0 [=================================] - 1s 647ms/step - loss: 0.6458 - accuracy: 0.9375 - val_loss: 3.1453 - val_accuracy: 0.7586\n",
            "Epoch 148/200\n",
            "1/0 [=================================] - 1s 586ms/step - loss: 0.4179 - accuracy: 0.9375 - val_loss: 3.9520 - val_accuracy: 0.8276\n",
            "Epoch 149/200\n",
            "1/0 [=================================] - 0s 368ms/step - loss: 2.3842e-08 - accuracy: 1.0000 - val_loss: 5.3541 - val_accuracy: 0.6897\n",
            "Epoch 150/200\n",
            "1/0 [=================================] - 1s 647ms/step - loss: 2.0191 - accuracy: 0.8125 - val_loss: 5.3996 - val_accuracy: 0.7241\n",
            "Epoch 151/200\n",
            "1/0 [=================================] - 1s 588ms/step - loss: 2.6791 - accuracy: 0.6875 - val_loss: 4.2170 - val_accuracy: 0.7586\n",
            "Epoch 152/200\n",
            "1/0 [=================================] - 1s 592ms/step - loss: 1.8483 - accuracy: 0.7500 - val_loss: 3.1441 - val_accuracy: 0.7586\n",
            "Epoch 153/200\n",
            "1/0 [=================================] - 0s 298ms/step - loss: 5.5551e-06 - accuracy: 1.0000 - val_loss: 2.6331 - val_accuracy: 0.7586\n",
            "Epoch 154/200\n",
            "1/0 [=================================] - 1s 650ms/step - loss: 0.5032 - accuracy: 0.9062 - val_loss: 2.5426 - val_accuracy: 0.7586\n",
            "Epoch 155/200\n",
            "1/0 [=================================] - 1s 636ms/step - loss: 0.1240 - accuracy: 0.9688 - val_loss: 2.6251 - val_accuracy: 0.7931\n",
            "Epoch 156/200\n",
            "1/0 [=================================] - 1s 604ms/step - loss: 0.5503 - accuracy: 0.8438 - val_loss: 2.7240 - val_accuracy: 0.7931\n",
            "Epoch 157/200\n",
            "1/0 [=================================] - 1s 607ms/step - loss: 0.4225 - accuracy: 0.8750 - val_loss: 2.7835 - val_accuracy: 0.7931\n",
            "Epoch 158/200\n",
            "1/0 [=================================] - 1s 558ms/step - loss: 0.2016 - accuracy: 0.9062 - val_loss: 2.8012 - val_accuracy: 0.7931\n",
            "Epoch 159/200\n",
            "1/0 [=================================] - 1s 634ms/step - loss: 0.0778 - accuracy: 0.9688 - val_loss: 2.7750 - val_accuracy: 0.7931\n",
            "Epoch 160/200\n",
            "1/0 [=================================] - 0s 312ms/step - loss: 0.1597 - accuracy: 1.0000 - val_loss: 2.7105 - val_accuracy: 0.7931\n",
            "Epoch 161/200\n",
            "1/0 [=================================] - 1s 637ms/step - loss: 0.5582 - accuracy: 0.9375 - val_loss: 2.5742 - val_accuracy: 0.7931\n",
            "Epoch 162/200\n",
            "1/0 [=================================] - 1s 585ms/step - loss: 0.2969 - accuracy: 0.9688 - val_loss: 2.4135 - val_accuracy: 0.7931\n",
            "Epoch 163/200\n",
            "1/0 [=================================] - 0s 307ms/step - loss: 0.4950 - accuracy: 0.6000 - val_loss: 2.3087 - val_accuracy: 0.7931\n",
            "Epoch 164/200\n",
            "1/0 [=================================] - 1s 631ms/step - loss: 0.4962 - accuracy: 0.8750 - val_loss: 2.0717 - val_accuracy: 0.7931\n",
            "Epoch 165/200\n",
            "1/0 [=================================] - 1s 594ms/step - loss: 0.1033 - accuracy: 0.9688 - val_loss: 1.9842 - val_accuracy: 0.8276\n",
            "Epoch 166/200\n",
            "1/0 [=================================] - 0s 332ms/step - loss: 0.2886 - accuracy: 0.8000 - val_loss: 2.0245 - val_accuracy: 0.7931\n",
            "Epoch 167/200\n",
            "1/0 [=================================] - 1s 671ms/step - loss: 0.8316 - accuracy: 0.8438 - val_loss: 2.0680 - val_accuracy: 0.7931\n",
            "Epoch 168/200\n",
            "1/0 [=================================] - 1s 584ms/step - loss: 0.6052 - accuracy: 0.9062 - val_loss: 2.0736 - val_accuracy: 0.7931\n",
            "Epoch 169/200\n",
            "1/0 [=================================] - 0s 276ms/step - loss: 4.1246e-06 - accuracy: 1.0000 - val_loss: 2.0975 - val_accuracy: 0.7931\n",
            "Epoch 170/200\n",
            "1/0 [=================================] - 1s 651ms/step - loss: 0.4148 - accuracy: 0.8750 - val_loss: 2.0505 - val_accuracy: 0.7931\n",
            "Epoch 171/200\n",
            "1/0 [=================================] - 0s 335ms/step - loss: 0.0000e+00 - accuracy: 1.0000 - val_loss: 2.0156 - val_accuracy: 0.7931\n",
            "Epoch 172/200\n",
            "1/0 [=================================] - 1s 639ms/step - loss: 1.8516 - accuracy: 0.6875 - val_loss: 1.8193 - val_accuracy: 0.7931\n",
            "Epoch 173/200\n",
            "1/0 [=================================] - 1s 588ms/step - loss: 2.5882 - accuracy: 0.6562 - val_loss: 1.6929 - val_accuracy: 0.8276\n",
            "Epoch 174/200\n",
            "1/0 [=================================] - 0s 308ms/step - loss: 8.7498e-06 - accuracy: 1.0000 - val_loss: 1.5974 - val_accuracy: 0.8276\n",
            "Epoch 175/200\n",
            "1/0 [=================================] - 1s 627ms/step - loss: 0.1733 - accuracy: 0.8750 - val_loss: 1.5702 - val_accuracy: 0.8621\n",
            "Epoch 176/200\n",
            "1/0 [=================================] - 0s 352ms/step - loss: 0.0000e+00 - accuracy: 1.0000 - val_loss: 1.5407 - val_accuracy: 0.8621\n",
            "Epoch 177/200\n",
            "1/0 [=================================] - 1s 640ms/step - loss: 0.0204 - accuracy: 1.0000 - val_loss: 1.5353 - val_accuracy: 0.8621\n",
            "Epoch 178/200\n",
            "1/0 [=================================] - 1s 605ms/step - loss: 0.2831 - accuracy: 0.9062 - val_loss: 1.4726 - val_accuracy: 0.8621\n",
            "Epoch 179/200\n",
            "1/0 [=================================] - 1s 578ms/step - loss: 0.3515 - accuracy: 0.9375 - val_loss: 1.4776 - val_accuracy: 0.8621\n",
            "Epoch 180/200\n",
            "1/0 [=================================] - 0s 295ms/step - loss: 0.3967 - accuracy: 0.8000 - val_loss: 1.7503 - val_accuracy: 0.8276\n",
            "Epoch 181/200\n",
            "1/0 [=================================] - 1s 636ms/step - loss: 0.0116 - accuracy: 1.0000 - val_loss: 2.3851 - val_accuracy: 0.7586\n",
            "Epoch 182/200\n",
            "1/0 [=================================] - 1s 628ms/step - loss: 1.6420 - accuracy: 0.8750 - val_loss: 2.9504 - val_accuracy: 0.7241\n",
            "Epoch 183/200\n",
            "1/0 [=================================] - 1s 590ms/step - loss: 0.9426 - accuracy: 0.8438 - val_loss: 3.4389 - val_accuracy: 0.7241\n",
            "Epoch 184/200\n",
            "1/0 [=================================] - 1s 664ms/step - loss: 0.7142 - accuracy: 0.8125 - val_loss: 3.8314 - val_accuracy: 0.6552\n",
            "Epoch 185/200\n",
            "1/0 [=================================] - 0s 311ms/step - loss: 0.6066 - accuracy: 0.8000 - val_loss: 4.0692 - val_accuracy: 0.6552\n",
            "Epoch 186/200\n",
            "1/0 [=================================] - 1s 650ms/step - loss: 0.0603 - accuracy: 0.9688 - val_loss: 4.1270 - val_accuracy: 0.6552\n",
            "Epoch 187/200\n",
            "1/0 [=================================] - 1s 582ms/step - loss: 0.7794 - accuracy: 0.8125 - val_loss: 3.0720 - val_accuracy: 0.7931\n",
            "Epoch 188/200\n",
            "1/0 [=================================] - 0s 321ms/step - loss: 2.3842e-08 - accuracy: 1.0000 - val_loss: 2.5260 - val_accuracy: 0.7931\n",
            "Epoch 189/200\n",
            "1/0 [=================================] - 1s 635ms/step - loss: 0.1887 - accuracy: 0.9375 - val_loss: 2.0764 - val_accuracy: 0.8621\n",
            "Epoch 190/200\n",
            "1/0 [=================================] - 1s 580ms/step - loss: 0.0122 - accuracy: 1.0000 - val_loss: 1.8501 - val_accuracy: 0.8276\n",
            "Epoch 191/200\n",
            "1/0 [=================================] - 1s 600ms/step - loss: 1.7470 - accuracy: 0.7500 - val_loss: 1.7388 - val_accuracy: 0.8276\n",
            "Epoch 192/200\n",
            "1/0 [=================================] - 1s 580ms/step - loss: 1.8240 - accuracy: 0.7188 - val_loss: 1.7075 - val_accuracy: 0.8276\n",
            "Epoch 193/200\n",
            "1/0 [=================================] - 0s 327ms/step - loss: 0.2795 - accuracy: 0.8000 - val_loss: 1.8017 - val_accuracy: 0.8276\n",
            "Epoch 194/200\n",
            "1/0 [=================================] - 1s 624ms/step - loss: 0.1581 - accuracy: 0.9062 - val_loss: 1.9641 - val_accuracy: 0.7931\n",
            "Epoch 195/200\n",
            "1/0 [=================================] - 0s 290ms/step - loss: 7.1526e-08 - accuracy: 1.0000 - val_loss: 2.2027 - val_accuracy: 0.8276\n",
            "Epoch 196/200\n",
            "1/0 [=================================] - 1s 633ms/step - loss: 0.0043 - accuracy: 1.0000 - val_loss: 2.5738 - val_accuracy: 0.7931\n",
            "Epoch 197/200\n",
            "1/0 [=================================] - 1s 583ms/step - loss: 0.0100 - accuracy: 1.0000 - val_loss: 2.9220 - val_accuracy: 0.7931\n",
            "Epoch 198/200\n",
            "1/0 [=================================] - 1s 610ms/step - loss: 0.1929 - accuracy: 0.9375 - val_loss: 3.0545 - val_accuracy: 0.7586\n",
            "Epoch 199/200\n",
            "1/0 [=================================] - 1s 568ms/step - loss: 0.4653 - accuracy: 0.9375 - val_loss: 2.8166 - val_accuracy: 0.7931\n",
            "Epoch 200/200\n",
            "1/0 [=================================] - 1s 598ms/step - loss: 0.5052 - accuracy: 0.9062 - val_loss: 2.4931 - val_accuracy: 0.7931\n"
          ],
          "name": "stdout"
        }
      ]
    },
    {
      "cell_type": "code",
      "metadata": {
        "id": "RRiBHkAR81bV",
        "colab_type": "code",
        "colab": {
          "base_uri": "https://localhost:8080/",
          "height": 51
        },
        "outputId": "0fafae53-72e8-444e-a476-85b25b54b45b"
      },
      "source": [
        "acc_scores = list()\n",
        "acc = modelBest.evaluate(X_test, y_test, verbose=0)\n",
        "acc_scores.append(acc[1])\n",
        "print('Accuracy scores: ', acc_scores)\n",
        "print(acc)"
      ],
      "execution_count": null,
      "outputs": [
        {
          "output_type": "stream",
          "text": [
            "Accuracy scores:  [0.7586207]\n",
            "[1.4521515369415283, 0.7586207]\n"
          ],
          "name": "stdout"
        }
      ]
    },
    {
      "cell_type": "code",
      "metadata": {
        "id": "mX5Cbm4U3kmB",
        "colab_type": "code",
        "colab": {}
      },
      "source": [
        "y_pred = modelBest.predict(X_test, batch_size=32)\n",
        "y_pred_covid = modelBest.predict(covid_x_test, batch_size=32)"
      ],
      "execution_count": null,
      "outputs": []
    },
    {
      "cell_type": "code",
      "metadata": {
        "id": "AFpJ4lSs3sig",
        "colab_type": "code",
        "colab": {}
      },
      "source": [
        "y_test_covid = LabelBinarizer().fit_transform(covid_y_test)\n",
        "y_test_covid = to_categorical(y_test_covid)"
      ],
      "execution_count": null,
      "outputs": []
    },
    {
      "cell_type": "code",
      "metadata": {
        "id": "KNnNLSnr7vdm",
        "colab_type": "code",
        "colab": {}
      },
      "source": [
        "from sklearn.metrics import classification_report\n",
        "\n",
        "print(classification_report(np.argmax(y_test, axis=1), np.argmax(y_pred, axis=1)))"
      ],
      "execution_count": null,
      "outputs": []
    },
    {
      "cell_type": "code",
      "metadata": {
        "id": "bkT6IZDt34ED",
        "colab_type": "code",
        "colab": {}
      },
      "source": [
        "plt.figure(figsize=(10,10))\n",
        "plt.style.use('dark_background')\n",
        "\n",
        "plt.plot(history.history['accuracy'])\n",
        "plt.plot(history.history['val_accuracy'])\n",
        "\n",
        "plt.title('Model Accuracy')\n",
        "plt.ylabel('Accuracy')\n",
        "plt.xlabel('Epoch')\n",
        "\n",
        "plt.legend(['Training', 'Testing'])\n",
        "\n",
        "plt.show()"
      ],
      "execution_count": null,
      "outputs": []
    },
    {
      "cell_type": "code",
      "metadata": {
        "id": "j1pDXJ9h3-Ia",
        "colab_type": "code",
        "colab": {}
      },
      "source": [
        "plt.figure(figsize=(10,10))\n",
        "plt.style.use('dark_background')\n",
        "\n",
        "plt.plot(history.history['loss'])\n",
        "plt.plot(history.history['val_loss'])\n",
        "\n",
        "plt.title('Model Loss')\n",
        "plt.ylabel('Loss')\n",
        "plt.xlabel('Epoch')\n",
        "\n",
        "plt.legend(['Training', 'Testing'])\n",
        "\n",
        "plt.show()"
      ],
      "execution_count": null,
      "outputs": []
    },
    {
      "cell_type": "code",
      "metadata": {
        "id": "VxjfXNKUFOwL",
        "colab_type": "code",
        "colab": {}
      },
      "source": [
        "from keras.preprocessing import image\n",
        "\n",
        "test_image = image.load_img('dataset/normal_dataset/0b421aea-6e0f-4faf-a4bf-4a82445d0e35.jpg', target_size = (224,224))\n",
        "#test_image = image.load_img('dataset/covid_adjusted/covid-19-pneumonia-rapidly-progressive-12-hours.jpg.jpg', target_size = (224,224))\n",
        "\n",
        "\n",
        "test_image = image.img_to_array(test_image)\n",
        "test_image = test_image *1./255\n",
        "\n",
        "test_image = np.expand_dims(test_image, axis = 0)\n",
        "test_image = np.vstack([test_image ])\n",
        "result = modelBest.predict(test_image,batch_size=32)\n",
        "print(result)"
      ],
      "execution_count": null,
      "outputs": []
    },
    {
      "cell_type": "code",
      "metadata": {
        "id": "TzrC7q7hD3Mp",
        "colab_type": "code",
        "colab": {}
      },
      "source": [
        "import matplotlib.image as mpimg\n",
        "\n",
        "img=mpimg.imread('dataset/normal_dataset/0b421aea-6e0f-4faf-a4bf-4a82445d0e35.jpg')\n",
        "#img=mpimg.imread('dataset/covid_adjusted/covid-19-pneumonia-rapidly-progressive-12-hours.jpg.jpg')\n",
        "imgplot = plt.imshow(img)\n",
        "plt=plt.title('Chest X-ray ')"
      ],
      "execution_count": null,
      "outputs": []
    },
    {
      "cell_type": "code",
      "metadata": {
        "id": "QlQFbn_6GTAd",
        "colab_type": "code",
        "colab": {}
      },
      "source": [
        "if result[0][0]<result[0][1]:\n",
        "\n",
        "    prediction = 'normal'\n",
        "else:\n",
        "    prediction = 'covid'\n",
        "    \n",
        "print(\"AI's prediction is: \"+ prediction)"
      ],
      "execution_count": null,
      "outputs": []
    }
  ]
}